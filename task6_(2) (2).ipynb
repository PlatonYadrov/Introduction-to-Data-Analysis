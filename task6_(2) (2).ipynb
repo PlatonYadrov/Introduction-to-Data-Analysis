{
  "cells": [
    {
      "cell_type": "markdown",
      "id": "6eaad4c7",
      "metadata": {
        "id": "6eaad4c7"
      },
      "source": [
        "# <a href=\"https://miptstats.github.io/courses/ad_fivt.html\">Введение в анализ данных</a>\n",
        "## Домашнее задание 6. Основы обработки текстов\n"
      ]
    },
    {
      "cell_type": "markdown",
      "id": "7622f90a",
      "metadata": {
        "id": "7622f90a"
      },
      "source": [
        "**Правила, <font color=\"red\">прочитайте внимательно</font>:**\n",
        "\n",
        "* Выполненную работу нужно отправить телеграм-боту `@miptstats_ds24_bot`. Для начала работы с ботом каждый раз отправляйте `/start`. **Работы, присланные иным способом, не принимаются.**\n",
        "* Дедлайн см. в боте. После дедлайна работы не принимаются кроме случаев наличия уважительной причины.\n",
        "* Прислать нужно **ноутбук в формате `ipynb`**.\n",
        "* Следите за размером файлов. **Бот не может принимать файлы весом более 20 Мб.** Если файл получается больше, заранее разделите его на несколько.\n",
        "* Выполнять задание необходимо полностью самостоятельно. **При обнаружении списывания все участники списывания будут сдавать устный зачет.**\n",
        "* Решения, размещенные на каких-либо интернет-ресурсах, не принимаются. Кроме того, публикация решения в открытом доступе может быть приравнена к предоставлении возможности списать.\n",
        "* Для выполнения задания используйте этот ноутбук в качестве основы, ничего не удаляя из него. Можно добавлять необходимое количество ячеек.\n",
        "* Комментарии к решению пишите в markdown-ячейках.\n",
        "* Выполнение задания (ход решения, выводы и пр.) должно быть осуществлено на русском языке.\n",
        "* Если код будет не понятен проверяющему, оценка может быть снижена.\n",
        "* Никакой код из данного задания при проверке запускаться не будет. *Если код студента не выполнен, недописан и т.д., то он не оценивается.*\n",
        "\n",
        "\n",
        "**Баллы за задание:**\n",
        "\n",
        "* Задача 1 &mdash; 100 баллов\n",
        "* Задача 2 &mdash; 50 баллов\n",
        "\n",
        "Баллы учитываются в <b><font color=\"green\">факультативной части</font></b> курса и не влияют на оценку по основной части."
      ]
    },
    {
      "cell_type": "code",
      "execution_count": null,
      "id": "3431050d",
      "metadata": {
        "id": "3431050d"
      },
      "outputs": [],
      "source": [
        "# Bot check\n",
        "\n",
        "# HW_ID: fpmi_ad6\n",
        "# Бот проверит этот ID и предупредит, если случайно сдать что-то не то.\n",
        "\n",
        "# Status: not final\n",
        "# Перед отправкой в финальном решении удали \"not\" в строчке выше.\n",
        "# Так бот проверит, что ты отправляешь финальную версию, а не промежуточную.\n",
        "# Никакие значения в этой ячейке не влияют на факт сдачи работы."
      ]
    },
    {
      "cell_type": "code",
      "execution_count": 2,
      "id": "2ee3e8d8",
      "metadata": {
        "colab": {
          "base_uri": "https://localhost:8080/"
        },
        "id": "2ee3e8d8",
        "outputId": "1e0b99d1-20ad-4e90-e3c9-d620585ddc18"
      },
      "outputs": [
        {
          "output_type": "stream",
          "name": "stderr",
          "text": [
            "[nltk_data] Downloading package stopwords to /root/nltk_data...\n",
            "[nltk_data]   Unzipping corpora/stopwords.zip.\n"
          ]
        }
      ],
      "source": [
        "import time\n",
        "import numpy as np\n",
        "import pandas as pd\n",
        "from tqdm import tqdm\n",
        "from string import punctuation\n",
        "import matplotlib.pyplot as plt\n",
        "from collections import Counter, OrderedDict\n",
        "from IPython.display import clear_output\n",
        "\n",
        "import torch\n",
        "import torch.nn as nn\n",
        "import torch.nn.functional as F\n",
        "from torch.utils.data import DataLoader, Dataset\n",
        "from torch.nn.utils.rnn import pad_sequence\n",
        "\n",
        "from sklearn.model_selection import train_test_split\n",
        "from sklearn.preprocessing import MinMaxScaler\n",
        "from sklearn.model_selection import train_test_split\n",
        "\n",
        "import torchtext\n",
        "from torchtext.data.utils import get_tokenizer\n",
        "\n",
        "import seaborn as sns\n",
        "\n",
        "sns.set(palette=\"Set2\")\n",
        "sns.set_style(\"whitegrid\")\n",
        "\n",
        "import nltk\n",
        "\n",
        "nltk.download(\"stopwords\")\n",
        "\n",
        "device = (\n",
        "    \"mps\"\n",
        "    if torch.backends.mps.is_available()\n",
        "    else \"cuda\" if torch.cuda.is_available() else \"cpu\"\n",
        ")"
      ]
    },
    {
      "cell_type": "markdown",
      "id": "f2a21b25",
      "metadata": {
        "id": "f2a21b25"
      },
      "source": [
        "Перед выполнением задания обязательно посмотрите <a href=\"https://miptstats.github.io/courses/ad_fivt/lecture6.pdf\" target=\"_blank\">презентацию</a>, [ноутбук](https://miptstats.github.io/courses/ad_fivt/nlp_sem.html) по RNN и [ноутбук](https://miptstats.github.io/courses/ad_fivt/nlp_sem_llama.html) по генерации текста."
      ]
    },
    {
      "cell_type": "markdown",
      "id": "9045cb13",
      "metadata": {
        "id": "9045cb13"
      },
      "source": [
        "---\n",
        "### Задача 1. Предсказание заработной платы\n"
      ]
    },
    {
      "cell_type": "markdown",
      "id": "66815083",
      "metadata": {
        "id": "66815083"
      },
      "source": [
        "В этой задаче вам предлагается решить задачу регрессии &mdash; по текстовому описанию вакансии определить заработную плату. Для решения такой задачи можно применять различные методы, в том числе и те, которые были рассмотрены на лекции.\n",
        "Мы будем решать эту задачу с помощью рекуррентной нейронной сети."
      ]
    },
    {
      "cell_type": "markdown",
      "id": "f1fc7637",
      "metadata": {
        "id": "f1fc7637"
      },
      "source": [
        "Датасет `salary_dataset.csv` лежит по <a target=\"_blank\" href=\"https://drive.google.com/file/d/1Q3lCw_8Uad_OzHCjvLeYRvamXR74UPbW/view?usp=sharing\">ссылке</a> (312.3 MB).\n",
        "\n",
        "Если вы работаете локально:\n",
        "\n",
        "> Просто скачайте этот файл и укажите пути к ним ниже.\n",
        "\n",
        "\n",
        "Если вы используете <a target=\"_blank\" href=\"https://colab.research.google.com/\">Colab</a>:\n",
        "> **Скачивать файл не обязательно**. Просто подключитесь к Google Drive:\n",
        ">\n",
        "> ```\n",
        "> from google.colab import drive\n",
        "> drive.mount('/content/drive/')\n",
        "> ```\n",
        ">\n",
        "> Перейдите по ссылке файла и добавьте shortcut на него в ваш собственный диск:\n",
        "> ![Screen Shot 2024-03-17 at 5.34.40 PM.png](data:image/png;base64,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)"
      ]
    },
    {
      "cell_type": "code",
      "source": [
        "from google.colab import drive\n",
        "drive.mount('/drive')\n",
        "\n",
        "# пути к нужным папкам в Drive\n",
        "path = \"/drive/MyDrive/ad\"\n",
        "\n",
        "\n",
        "!mkdir data/content\n",
        "!cp -a /$path/. data/content/"
      ],
      "metadata": {
        "colab": {
          "base_uri": "https://localhost:8080/"
        },
        "id": "yKtY0CIoHX17",
        "outputId": "88f7749c-e4e0-4375-b040-dae8022fcdcb"
      },
      "id": "yKtY0CIoHX17",
      "execution_count": null,
      "outputs": [
        {
          "output_type": "stream",
          "name": "stdout",
          "text": [
            "Mounted at /drive\n",
            "mkdir: cannot create directory ‘data/content’: No such file or directory\n",
            "cp: cannot create directory 'data/content/': No such file or directory\n"
          ]
        }
      ]
    },
    {
      "cell_type": "markdown",
      "id": "a2f8e4ae",
      "metadata": {
        "id": "a2f8e4ae"
      },
      "source": [
        "Скачаем данные для обучения и тестирования:"
      ]
    },
    {
      "cell_type": "code",
      "execution_count": null,
      "id": "04bee2a7",
      "metadata": {
        "id": "04bee2a7",
        "colab": {
          "base_uri": "https://localhost:8080/",
          "height": 206
        },
        "outputId": "98e007bf-1bcb-4594-d382-061902b779c2"
      },
      "outputs": [
        {
          "output_type": "execute_result",
          "data": {
            "text/plain": [
              "                                     FullDescription  SalaryNormalized\n",
              "0  This is an exciting opportunity for a Recruite...             55000\n",
              "1  Our client is looking for a .net web developer...             27500\n",
              "2  MS SQL Database Administrator  Helsinki, Finla...             72098\n",
              "3  ACADEMIC APPOINTMENTS A large secondary school...             32400\n",
              "4  Head of User Experience  c. ****k / London A H...             67500"
            ],
            "text/html": [
              "\n",
              "  <div id=\"df-70b09669-7a75-43dd-876d-99140ec6023d\" class=\"colab-df-container\">\n",
              "    <div>\n",
              "<style scoped>\n",
              "    .dataframe tbody tr th:only-of-type {\n",
              "        vertical-align: middle;\n",
              "    }\n",
              "\n",
              "    .dataframe tbody tr th {\n",
              "        vertical-align: top;\n",
              "    }\n",
              "\n",
              "    .dataframe thead th {\n",
              "        text-align: right;\n",
              "    }\n",
              "</style>\n",
              "<table border=\"1\" class=\"dataframe\">\n",
              "  <thead>\n",
              "    <tr style=\"text-align: right;\">\n",
              "      <th></th>\n",
              "      <th>FullDescription</th>\n",
              "      <th>SalaryNormalized</th>\n",
              "    </tr>\n",
              "  </thead>\n",
              "  <tbody>\n",
              "    <tr>\n",
              "      <th>0</th>\n",
              "      <td>This is an exciting opportunity for a Recruite...</td>\n",
              "      <td>55000</td>\n",
              "    </tr>\n",
              "    <tr>\n",
              "      <th>1</th>\n",
              "      <td>Our client is looking for a .net web developer...</td>\n",
              "      <td>27500</td>\n",
              "    </tr>\n",
              "    <tr>\n",
              "      <th>2</th>\n",
              "      <td>MS SQL Database Administrator  Helsinki, Finla...</td>\n",
              "      <td>72098</td>\n",
              "    </tr>\n",
              "    <tr>\n",
              "      <th>3</th>\n",
              "      <td>ACADEMIC APPOINTMENTS A large secondary school...</td>\n",
              "      <td>32400</td>\n",
              "    </tr>\n",
              "    <tr>\n",
              "      <th>4</th>\n",
              "      <td>Head of User Experience  c. ****k / London A H...</td>\n",
              "      <td>67500</td>\n",
              "    </tr>\n",
              "  </tbody>\n",
              "</table>\n",
              "</div>\n",
              "    <div class=\"colab-df-buttons\">\n",
              "\n",
              "  <div class=\"colab-df-container\">\n",
              "    <button class=\"colab-df-convert\" onclick=\"convertToInteractive('df-70b09669-7a75-43dd-876d-99140ec6023d')\"\n",
              "            title=\"Convert this dataframe to an interactive table.\"\n",
              "            style=\"display:none;\">\n",
              "\n",
              "  <svg xmlns=\"http://www.w3.org/2000/svg\" height=\"24px\" viewBox=\"0 -960 960 960\">\n",
              "    <path d=\"M120-120v-720h720v720H120Zm60-500h600v-160H180v160Zm220 220h160v-160H400v160Zm0 220h160v-160H400v160ZM180-400h160v-160H180v160Zm440 0h160v-160H620v160ZM180-180h160v-160H180v160Zm440 0h160v-160H620v160Z\"/>\n",
              "  </svg>\n",
              "    </button>\n",
              "\n",
              "  <style>\n",
              "    .colab-df-container {\n",
              "      display:flex;\n",
              "      gap: 12px;\n",
              "    }\n",
              "\n",
              "    .colab-df-convert {\n",
              "      background-color: #E8F0FE;\n",
              "      border: none;\n",
              "      border-radius: 50%;\n",
              "      cursor: pointer;\n",
              "      display: none;\n",
              "      fill: #1967D2;\n",
              "      height: 32px;\n",
              "      padding: 0 0 0 0;\n",
              "      width: 32px;\n",
              "    }\n",
              "\n",
              "    .colab-df-convert:hover {\n",
              "      background-color: #E2EBFA;\n",
              "      box-shadow: 0px 1px 2px rgba(60, 64, 67, 0.3), 0px 1px 3px 1px rgba(60, 64, 67, 0.15);\n",
              "      fill: #174EA6;\n",
              "    }\n",
              "\n",
              "    .colab-df-buttons div {\n",
              "      margin-bottom: 4px;\n",
              "    }\n",
              "\n",
              "    [theme=dark] .colab-df-convert {\n",
              "      background-color: #3B4455;\n",
              "      fill: #D2E3FC;\n",
              "    }\n",
              "\n",
              "    [theme=dark] .colab-df-convert:hover {\n",
              "      background-color: #434B5C;\n",
              "      box-shadow: 0px 1px 3px 1px rgba(0, 0, 0, 0.15);\n",
              "      filter: drop-shadow(0px 1px 2px rgba(0, 0, 0, 0.3));\n",
              "      fill: #FFFFFF;\n",
              "    }\n",
              "  </style>\n",
              "\n",
              "    <script>\n",
              "      const buttonEl =\n",
              "        document.querySelector('#df-70b09669-7a75-43dd-876d-99140ec6023d button.colab-df-convert');\n",
              "      buttonEl.style.display =\n",
              "        google.colab.kernel.accessAllowed ? 'block' : 'none';\n",
              "\n",
              "      async function convertToInteractive(key) {\n",
              "        const element = document.querySelector('#df-70b09669-7a75-43dd-876d-99140ec6023d');\n",
              "        const dataTable =\n",
              "          await google.colab.kernel.invokeFunction('convertToInteractive',\n",
              "                                                    [key], {});\n",
              "        if (!dataTable) return;\n",
              "\n",
              "        const docLinkHtml = 'Like what you see? Visit the ' +\n",
              "          '<a target=\"_blank\" href=https://colab.research.google.com/notebooks/data_table.ipynb>data table notebook</a>'\n",
              "          + ' to learn more about interactive tables.';\n",
              "        element.innerHTML = '';\n",
              "        dataTable['output_type'] = 'display_data';\n",
              "        await google.colab.output.renderOutput(dataTable, element);\n",
              "        const docLink = document.createElement('div');\n",
              "        docLink.innerHTML = docLinkHtml;\n",
              "        element.appendChild(docLink);\n",
              "      }\n",
              "    </script>\n",
              "  </div>\n",
              "\n",
              "\n",
              "<div id=\"df-ec00e292-e13b-458d-99ad-a54805d07ec7\">\n",
              "  <button class=\"colab-df-quickchart\" onclick=\"quickchart('df-ec00e292-e13b-458d-99ad-a54805d07ec7')\"\n",
              "            title=\"Suggest charts\"\n",
              "            style=\"display:none;\">\n",
              "\n",
              "<svg xmlns=\"http://www.w3.org/2000/svg\" height=\"24px\"viewBox=\"0 0 24 24\"\n",
              "     width=\"24px\">\n",
              "    <g>\n",
              "        <path d=\"M19 3H5c-1.1 0-2 .9-2 2v14c0 1.1.9 2 2 2h14c1.1 0 2-.9 2-2V5c0-1.1-.9-2-2-2zM9 17H7v-7h2v7zm4 0h-2V7h2v10zm4 0h-2v-4h2v4z\"/>\n",
              "    </g>\n",
              "</svg>\n",
              "  </button>\n",
              "\n",
              "<style>\n",
              "  .colab-df-quickchart {\n",
              "      --bg-color: #E8F0FE;\n",
              "      --fill-color: #1967D2;\n",
              "      --hover-bg-color: #E2EBFA;\n",
              "      --hover-fill-color: #174EA6;\n",
              "      --disabled-fill-color: #AAA;\n",
              "      --disabled-bg-color: #DDD;\n",
              "  }\n",
              "\n",
              "  [theme=dark] .colab-df-quickchart {\n",
              "      --bg-color: #3B4455;\n",
              "      --fill-color: #D2E3FC;\n",
              "      --hover-bg-color: #434B5C;\n",
              "      --hover-fill-color: #FFFFFF;\n",
              "      --disabled-bg-color: #3B4455;\n",
              "      --disabled-fill-color: #666;\n",
              "  }\n",
              "\n",
              "  .colab-df-quickchart {\n",
              "    background-color: var(--bg-color);\n",
              "    border: none;\n",
              "    border-radius: 50%;\n",
              "    cursor: pointer;\n",
              "    display: none;\n",
              "    fill: var(--fill-color);\n",
              "    height: 32px;\n",
              "    padding: 0;\n",
              "    width: 32px;\n",
              "  }\n",
              "\n",
              "  .colab-df-quickchart:hover {\n",
              "    background-color: var(--hover-bg-color);\n",
              "    box-shadow: 0 1px 2px rgba(60, 64, 67, 0.3), 0 1px 3px 1px rgba(60, 64, 67, 0.15);\n",
              "    fill: var(--button-hover-fill-color);\n",
              "  }\n",
              "\n",
              "  .colab-df-quickchart-complete:disabled,\n",
              "  .colab-df-quickchart-complete:disabled:hover {\n",
              "    background-color: var(--disabled-bg-color);\n",
              "    fill: var(--disabled-fill-color);\n",
              "    box-shadow: none;\n",
              "  }\n",
              "\n",
              "  .colab-df-spinner {\n",
              "    border: 2px solid var(--fill-color);\n",
              "    border-color: transparent;\n",
              "    border-bottom-color: var(--fill-color);\n",
              "    animation:\n",
              "      spin 1s steps(1) infinite;\n",
              "  }\n",
              "\n",
              "  @keyframes spin {\n",
              "    0% {\n",
              "      border-color: transparent;\n",
              "      border-bottom-color: var(--fill-color);\n",
              "      border-left-color: var(--fill-color);\n",
              "    }\n",
              "    20% {\n",
              "      border-color: transparent;\n",
              "      border-left-color: var(--fill-color);\n",
              "      border-top-color: var(--fill-color);\n",
              "    }\n",
              "    30% {\n",
              "      border-color: transparent;\n",
              "      border-left-color: var(--fill-color);\n",
              "      border-top-color: var(--fill-color);\n",
              "      border-right-color: var(--fill-color);\n",
              "    }\n",
              "    40% {\n",
              "      border-color: transparent;\n",
              "      border-right-color: var(--fill-color);\n",
              "      border-top-color: var(--fill-color);\n",
              "    }\n",
              "    60% {\n",
              "      border-color: transparent;\n",
              "      border-right-color: var(--fill-color);\n",
              "    }\n",
              "    80% {\n",
              "      border-color: transparent;\n",
              "      border-right-color: var(--fill-color);\n",
              "      border-bottom-color: var(--fill-color);\n",
              "    }\n",
              "    90% {\n",
              "      border-color: transparent;\n",
              "      border-bottom-color: var(--fill-color);\n",
              "    }\n",
              "  }\n",
              "</style>\n",
              "\n",
              "  <script>\n",
              "    async function quickchart(key) {\n",
              "      const quickchartButtonEl =\n",
              "        document.querySelector('#' + key + ' button');\n",
              "      quickchartButtonEl.disabled = true;  // To prevent multiple clicks.\n",
              "      quickchartButtonEl.classList.add('colab-df-spinner');\n",
              "      try {\n",
              "        const charts = await google.colab.kernel.invokeFunction(\n",
              "            'suggestCharts', [key], {});\n",
              "      } catch (error) {\n",
              "        console.error('Error during call to suggestCharts:', error);\n",
              "      }\n",
              "      quickchartButtonEl.classList.remove('colab-df-spinner');\n",
              "      quickchartButtonEl.classList.add('colab-df-quickchart-complete');\n",
              "    }\n",
              "    (() => {\n",
              "      let quickchartButtonEl =\n",
              "        document.querySelector('#df-ec00e292-e13b-458d-99ad-a54805d07ec7 button');\n",
              "      quickchartButtonEl.style.display =\n",
              "        google.colab.kernel.accessAllowed ? 'block' : 'none';\n",
              "    })();\n",
              "  </script>\n",
              "</div>\n",
              "    </div>\n",
              "  </div>\n"
            ],
            "application/vnd.google.colaboratory.intrinsic+json": {
              "type": "dataframe",
              "variable_name": "dataset"
            }
          },
          "metadata": {},
          "execution_count": 3
        }
      ],
      "source": [
        "dataset = pd.read_csv('/drive/MyDrive/salary_dataset.csv')\n",
        "dataset.head()"
      ]
    },
    {
      "cell_type": "markdown",
      "id": "62f7f530",
      "metadata": {
        "id": "62f7f530"
      },
      "source": [
        "Каждая строка содержит полное описание вакансии и соответствующую зарплату. При этом описания могут быть довольно длинными, например:"
      ]
    },
    {
      "cell_type": "code",
      "execution_count": null,
      "id": "7176a287",
      "metadata": {
        "id": "7176a287",
        "colab": {
          "base_uri": "https://localhost:8080/",
          "height": 122
        },
        "outputId": "d01e2eea-deb8-4f95-d554-6d435cd3b830"
      },
      "outputs": [
        {
          "output_type": "execute_result",
          "data": {
            "text/plain": [
              "'This is an exciting opportunity for a Recruiter to join a rapidly growing online retailer. You will be responsible for developing and executing recruiting plans across the company. Your key accountabilities will include creating job descriptions, working closely with hiring managers, reducing recruitment costs, coordinating and implementing university recruitment initiatives and networking with industry contacts. You should be of graduate calibre with a track record in recruitment ideally gained in a fast moving start up environment. Experience of working in an online company would be a distinct advantage. Our client is an online retailer operating in the UK and in Continental Europe. This job was originally posted as www.totaljobs.com/JobSeeking/RecruitmentManager_job****'"
            ],
            "application/vnd.google.colaboratory.intrinsic+json": {
              "type": "string"
            }
          },
          "metadata": {},
          "execution_count": 4
        }
      ],
      "source": [
        "dataset.iloc[0][\"FullDescription\"]"
      ]
    },
    {
      "cell_type": "markdown",
      "id": "da5b0061",
      "metadata": {
        "id": "da5b0061"
      },
      "source": [
        "Для данной задачи нам не будут нужны служебные части речи и знаки пунктуации. Зададим токенизатор, списки стоп-слов и пунктуации."
      ]
    },
    {
      "cell_type": "code",
      "execution_count": null,
      "id": "63fd6175",
      "metadata": {
        "id": "63fd6175"
      },
      "outputs": [],
      "source": [
        "# Зададим токенизаторы\n",
        "tokenizer = get_tokenizer(\"spacy\", language=\"en_core_web_sm\")\n",
        "stop_words = nltk.corpus.stopwords.words(\"english\")  # стоп-слова\n",
        "punc = list(punctuation)  # пунктуация"
      ]
    },
    {
      "cell_type": "markdown",
      "id": "34d7fa9a",
      "metadata": {
        "id": "34d7fa9a"
      },
      "source": [
        "Подготовьте словарь, оставив в нем только наиболее часто встречающиеся токены. Не забудьте предварительно убрать из предложений знаки пунктуации и стоп-слова.\n",
        "\n",
        "*Можно использовать код с [семинара](https://miptstats.github.io/courses/ad_fivt/nlp_sem.html).*"
      ]
    },
    {
      "cell_type": "code",
      "execution_count": null,
      "id": "a8185269",
      "metadata": {
        "id": "a8185269"
      },
      "outputs": [],
      "source": [
        "# зададим счетчики\n",
        "counter = Counter()\n",
        "\n",
        "# посчитаем количество вхождений каждого токена\n",
        "for text in dataset[\"FullDescription\"]:\n",
        "    counter.update(\n",
        "        token\n",
        "        for token in tokenizer(text)\n",
        "        if token not in stop_words and token not in punc\n",
        "    )\n",
        "\n",
        "ordered_dict = OrderedDict(counter)\n",
        "MAX_VOCAB_SIZE = 25000  # ограничение на словарь\n",
        "ordered_dict = OrderedDict(counter.most_common(MAX_VOCAB_SIZE))"
      ]
    },
    {
      "cell_type": "markdown",
      "id": "21506452",
      "metadata": {
        "id": "21506452"
      },
      "source": [
        "Этот упорядоченный словарь хранит слово и его встречаемость. Можно посмотреть на самые частые слова в датасете:"
      ]
    },
    {
      "cell_type": "code",
      "execution_count": null,
      "id": "1d305b88",
      "metadata": {
        "id": "1d305b88",
        "colab": {
          "base_uri": "https://localhost:8080/"
        },
        "outputId": "d25e3f06-ab59-4a55-c14f-bda14cb961fb"
      },
      "outputs": [
        {
          "output_type": "execute_result",
          "data": {
            "text/plain": [
              "[(' ', 666725),\n",
              " ('experience', 269289),\n",
              " ('The', 258645),\n",
              " ('role', 211475),\n",
              " ('work', 207318),\n",
              " ('team', 194087),\n",
              " ('This', 180149),\n",
              " ('within', 175173),\n",
              " ('You', 173743),\n",
              " ('skills', 162215)]"
            ]
          },
          "metadata": {},
          "execution_count": 7
        }
      ],
      "source": [
        "list(ordered_dict.items())[:10]"
      ]
    },
    {
      "cell_type": "markdown",
      "id": "4063d7b8",
      "metadata": {
        "id": "4063d7b8"
      },
      "source": [
        "Теперь изменим словарь, добавив в него специальные токены, которые необходимы для подготовки данных к обучению:"
      ]
    },
    {
      "cell_type": "code",
      "execution_count": null,
      "id": "4a63124e",
      "metadata": {
        "id": "4a63124e"
      },
      "outputs": [],
      "source": [
        "# зададим словарь\n",
        "vocab = torchtext.vocab.vocab(ordered_dict)\n",
        "\n",
        "unk_token = \"<unk>\"\n",
        "pad_token = \"<pad>\"\n",
        "\n",
        "\n",
        "def add_special_tokens(vocab):\n",
        "    \"\"\"Функция для добавления специальных токенов в словарь.\"\"\"\n",
        "    for special_token in [unk_token, pad_token]:\n",
        "        vocab.append_token(special_token)\n",
        "    vocab.set_default_index(vocab[unk_token])\n",
        "    UNK_IDX = vocab[unk_token]\n",
        "    PAD_IDX = vocab[pad_token]\n",
        "    return vocab, UNK_IDX, PAD_IDX\n",
        "\n",
        "\n",
        "vocab, UNK_IDX_EN, PAD_IDX_EN = add_special_tokens(vocab)\n",
        "num_tokens = len(vocab)"
      ]
    },
    {
      "cell_type": "markdown",
      "id": "91395e11",
      "metadata": {
        "id": "91395e11"
      },
      "source": [
        "Подготовим класс датасета:"
      ]
    },
    {
      "cell_type": "code",
      "execution_count": null,
      "id": "325a9927",
      "metadata": {
        "id": "325a9927"
      },
      "outputs": [],
      "source": [
        "class SalaryPredictionDataset(Dataset):\n",
        "    \"\"\"Класс датасета для предсказания зарплаты\"\"\"\n",
        "\n",
        "    def __init__(self, texts, target):\n",
        "        \"\"\"\n",
        "        Параметры.\n",
        "        1) texts (list) — корпус токенизированных текстов, на котором будет\n",
        "                          происходить обучение\n",
        "        2) labels (list) — истинные метки текстов\n",
        "        \"\"\"\n",
        "        self.texts = texts\n",
        "        self.target = target\n",
        "\n",
        "    def __len__(self):\n",
        "        return len(self.target)\n",
        "\n",
        "    def __getitem__(self, idx):\n",
        "        return self.texts[idx], self.target[idx]"
      ]
    },
    {
      "cell_type": "markdown",
      "id": "83f538a8",
      "metadata": {
        "id": "83f538a8"
      },
      "source": [
        "Допишите функцию для дополнения текста до максимальной длины в батче. Снова воспользуйтесь кодом с [семинара](https://miptstats.github.io/courses/ad_fivt/nlp_sem.html).\n",
        "\n",
        "*Обратите внимание, что теперь вместо целочисленных меток мы используем вещественные таргеты. Если не поменять код с семинара, то вы можете решать неправильную задачу.*"
      ]
    },
    {
      "cell_type": "code",
      "execution_count": null,
      "id": "e404b6a9",
      "metadata": {
        "id": "e404b6a9"
      },
      "outputs": [],
      "source": [
        "def pad_collate(batch):\n",
        "    \"\"\"\n",
        "    Формирует тензоры из токенизированных текстов и таргетов, а также\n",
        "    дополняет последовательности токенов до макс. длины в батче с UNK_IDX\n",
        "\n",
        "    Вход:\n",
        "    * batch — батч с текстами и таргетами\n",
        "\n",
        "    Возвращает:\n",
        "    * texts_tensors - список тензоров текстов из батча, дополненных паддингом\n",
        "    * target - список соответствующих меток батча\n",
        "    \"\"\"\n",
        "    texts, target = zip(*batch)\n",
        "\n",
        "    # сформируем тензоры\n",
        "    texts_tensors = [torch.LongTensor(t) for t in texts]\n",
        "    target = torch.FloatTensor(target)\n",
        "\n",
        "    texts_tensors = pad_sequence(\n",
        "        texts_tensors, padding_value=PAD_IDX_EN, batch_first=True\n",
        "    )\n",
        "\n",
        "    return texts_tensors, target"
      ]
    },
    {
      "cell_type": "markdown",
      "id": "cda48bb6",
      "metadata": {
        "id": "cda48bb6"
      },
      "source": [
        "Токенизируем текст, а таргет переведем во `float`."
      ]
    },
    {
      "cell_type": "code",
      "execution_count": null,
      "id": "5ff3711b",
      "metadata": {
        "id": "5ff3711b"
      },
      "outputs": [],
      "source": [
        "tokens = [vocab(tokenizer(text)) for text in dataset[\"FullDescription\"]]\n",
        "target = [float(value) for value in dataset[\"SalaryNormalized\"]]"
      ]
    },
    {
      "cell_type": "markdown",
      "id": "9cd8fb68",
      "metadata": {
        "id": "9cd8fb68"
      },
      "source": [
        "Каждому из текстов в датасете сопоставляется последовательность токенов, причем везде разного размера:"
      ]
    },
    {
      "cell_type": "code",
      "execution_count": null,
      "id": "f5bf13aa",
      "metadata": {
        "id": "f5bf13aa",
        "colab": {
          "base_uri": "https://localhost:8080/"
        },
        "outputId": "f0821b72-527a-4143-f405-e28827e4ed1a"
      },
      "outputs": [
        {
          "output_type": "stream",
          "name": "stdout",
          "text": [
            "Количество токенов в 0-м тексте - 122:\n",
            "  6, 25000, 25000, 141, 18, 25000, 25000, 3605, 25000, 35, ...\n",
            "Таргет: 55000.0 \n",
            "\n",
            "Количество токенов в 1-м тексте - 73:\n",
            "  67, 12, 25000, 14, 25000, 25000, 4674, 393, 871, 25000, ...\n",
            "Таргет: 27500.0 \n",
            "\n",
            "Количество токенов в 2-м тексте - 309:\n",
            "  573, 186, 1517, 658, 0, 24450, 25000, 15730, 13311, 87, ...\n",
            "Таргет: 72098.0 \n",
            "\n"
          ]
        }
      ],
      "source": [
        "for i in range(3):\n",
        "    print(f\"Количество токенов в {i}-м тексте - {len(tokens[i])}:\\n  \", end=\"\")\n",
        "    for token in tokens[i][:10]:\n",
        "        print(token, end=\", \")\n",
        "    print(\"...\\nТаргет:\", target[i], \"\\n\")"
      ]
    },
    {
      "cell_type": "markdown",
      "id": "dc98e576",
      "metadata": {
        "id": "dc98e576"
      },
      "source": [
        "При решении задач регрессии с помощью нейросетей удобнее всего бывает перевести предсказываемые значения в небольшой диапазон, например, от 0 до 1. Это нужно, чтобы повысить численную стабильность обучения &mdash; не нагружать модель большими значениями таргетов. В нашей задаче это важно, ведь зарплата может иметь большой разброс и принимать большие значения.\n",
        "\n",
        "Чтобы сделать это, воспользуемся преобразованием `MinMaxScaler` из библиотеки `sklearn`, которое мы рассматривали в [задаче 3 задания 3](https://miptstats.github.io/courses/ad_fivt/task3.html#%D0%97%D0%B0%D0%B4%D0%B0%D1%87%D0%B0-3.).\n",
        "Таким образом, мы получим значения, удобные для использования при обучении."
      ]
    },
    {
      "cell_type": "code",
      "execution_count": null,
      "id": "6e66978f",
      "metadata": {
        "id": "6e66978f",
        "colab": {
          "base_uri": "https://localhost:8080/"
        },
        "outputId": "0b6974a9-1853-4fa7-bb31-5e4a7dd4d3b0"
      },
      "outputs": [
        {
          "output_type": "execute_result",
          "data": {
            "text/plain": [
              "(150000, 50000)"
            ]
          },
          "metadata": {},
          "execution_count": 13
        }
      ],
      "source": [
        "train_tokens, valid_tokens, train_target, valid_target = train_test_split(\n",
        "    tokens, target\n",
        ")\n",
        "\n",
        "scaler = MinMaxScaler()\n",
        "train_target_std = scaler.fit_transform(np.array(train_target).reshape(-1, 1))\n",
        "valid_target_std = scaler.transform(np.array(valid_target).reshape(-1, 1))\n",
        "\n",
        "train_data = SalaryPredictionDataset(train_tokens, train_target_std)\n",
        "valid_data = SalaryPredictionDataset(valid_tokens, valid_target_std)\n",
        "len(train_data), len(valid_data)"
      ]
    },
    {
      "cell_type": "markdown",
      "id": "c90113da",
      "metadata": {
        "id": "c90113da"
      },
      "source": [
        "Посмотрим на отмасштабированные значения зарплаты:"
      ]
    },
    {
      "cell_type": "code",
      "execution_count": null,
      "id": "c40d3904",
      "metadata": {
        "colab": {
          "base_uri": "https://localhost:8080/"
        },
        "id": "c40d3904",
        "outputId": "cb4873e9-4e5c-435e-e7f5-cfb50463f39a"
      },
      "outputs": [
        {
          "output_type": "stream",
          "name": "stdout",
          "text": [
            "Преобразованные таргеты:\n",
            "0.2564, 0.1308, 0.1128, ...\n"
          ]
        }
      ],
      "source": [
        "print(\"Преобразованные таргеты:\")\n",
        "for t in train_data[:3][1]:\n",
        "    print(round(t.item(), 4), end=\", \")\n",
        "print(\"...\")"
      ]
    },
    {
      "cell_type": "markdown",
      "id": "6ef5e780",
      "metadata": {
        "id": "6ef5e780"
      },
      "source": [
        "Сформируйте даталоадеры для обучения и валидации."
      ]
    },
    {
      "cell_type": "code",
      "execution_count": null,
      "id": "a42bd036",
      "metadata": {
        "id": "a42bd036"
      },
      "outputs": [],
      "source": [
        "BATCH_SIZE = 64  # размер батча\n",
        "\n",
        "# сформируем даталоадеры\n",
        "train_loader = DataLoader(\n",
        "    train_data, batch_size=BATCH_SIZE, shuffle=True, collate_fn=pad_collate\n",
        ")\n",
        "\n",
        "valid_loader = DataLoader(\n",
        "    valid_data, batch_size=BATCH_SIZE, shuffle=False, collate_fn=pad_collate\n",
        ")"
      ]
    },
    {
      "cell_type": "markdown",
      "id": "6aeb78e0",
      "metadata": {
        "id": "6aeb78e0"
      },
      "source": [
        "Наконец, можем подготовить модель. Будем использовать рекуррентную архитектуру, подобную той, что была на [семинаре](https://miptstats.github.io/courses/ad_fivt/nlp_sem.ipynb).\n",
        "Отличие состоит в том, что теперь мы предсказываем не метку класса, а вещественный таргет. Подумайте, какую часть сети нужно изменить, чтобы адаптировать ее к нашей задаче."
      ]
    },
    {
      "cell_type": "code",
      "execution_count": null,
      "id": "bfcd2f4a",
      "metadata": {
        "id": "bfcd2f4a"
      },
      "outputs": [],
      "source": [
        "class SimpleRNNRegressor(nn.Module):\n",
        "    \"\"\" Модель для регрессии на основе LSTM\"\"\"\n",
        "\n",
        "    def __init__(\n",
        "        self,\n",
        "        num_tokens,\n",
        "        emb_size=512,\n",
        "        rnn_num_units=64,\n",
        "        output_dim=1,\n",
        "        layers=1\n",
        "    ):\n",
        "        \"\"\"\n",
        "        1) num_tokens — общее количество токенов,\n",
        "        2) emb_size — размер эмбеддингового пространства,\n",
        "        3) rnn_num_units - размер пространства скрытых представлений в rnn,\n",
        "        4) output_dim - размерность выхода-предсказания.\n",
        "        \"\"\"\n",
        "        super(self.__class__, self).__init__()\n",
        "\n",
        "        self.emb = nn.Embedding(num_tokens, emb_size, padding_idx=PAD_IDX_EN)\n",
        "        self.rnn = nn.LSTM(input_size=emb_size, hidden_size=rnn_num_units, batch_first=True, num_layers=layers)\n",
        "        self.classifier = nn.Linear(rnn_num_units, output_dim)\n",
        "\n",
        "    def forward(self, x):\n",
        "        \"\"\"\n",
        "        * x — общее количество токенов.\n",
        "\n",
        "        Возвращает:\n",
        "        * predictions - предсказания модели.\n",
        "        \"\"\"\n",
        "        # x.shape = (batch_size, max_pad_len)\n",
        "\n",
        "        # Получим эмбеддинги для входов\n",
        "        # (batch_size, max_pad_len, emb_size)\n",
        "        emb = self.emb(x)\n",
        "\n",
        "        # Прогоним через RNN-сеть и получим скрытое состояние,\n",
        "        # в котором хранится нужная информация о последовательности\n",
        "        # (batch_size, rnn_num_units)\n",
        "        _, (h_state, _) = self.rnn(emb)\n",
        "\n",
        "        # Прогоним через полносвязный слой и получим логиты для каждого токена\n",
        "        # (batch_size, num_tokens)\n",
        "        predictions = self.classifier(h_state.squeeze(0))\n",
        "        return predictions"
      ]
    },
    {
      "cell_type": "markdown",
      "id": "35d59151",
      "metadata": {
        "id": "35d59151"
      },
      "source": [
        "Так как теперь решаем задачу регрессии, вместо точности модели будем измерять среднеквадратичную ошибку:"
      ]
    },
    {
      "cell_type": "code",
      "execution_count": null,
      "id": "bbc77abf",
      "metadata": {
        "id": "bbc77abf"
      },
      "outputs": [],
      "source": [
        "def mse(preds, y):\n",
        "    \"\"\"\n",
        "    Возвращает среднеквадратичную ошибку модели.\n",
        "\n",
        "    Параметры.\n",
        "    1) preds — предсказания модели,\n",
        "    2) y — истинные значения таргета.\n",
        "    \"\"\"\n",
        "\n",
        "    return F.mse_loss(preds, y, reduction=\"mean\")"
      ]
    },
    {
      "cell_type": "markdown",
      "id": "0f5c892f",
      "metadata": {
        "id": "0f5c892f"
      },
      "source": [
        "Допишите функции для обучения и валидации. Они почти не будут отличаться от тех, что были на [семинаре](https://miptstats.github.io/courses/ad_fivt/nlp_sem.html)."
      ]
    },
    {
      "cell_type": "code",
      "execution_count": null,
      "id": "45f14b1d",
      "metadata": {
        "id": "45f14b1d"
      },
      "outputs": [],
      "source": [
        "def train(model, iterator, optimizer, criterion, train_loss_history):\n",
        "    \"\"\"\n",
        "    Функция для обучения модели на обучающем датасете и подсчёта\n",
        "    её ошибки.\n",
        "\n",
        "    Параметры.\n",
        "    1) model — модель,\n",
        "    2) iterator — итератор обучающего датасета,\n",
        "    3) optimizer — класс метода оптимизации,\n",
        "    4) criterion — функция потерь.\n",
        "    \"\"\"\n",
        "\n",
        "    epoch_loss = 0\n",
        "    epoch_mse = 0\n",
        "    model.train()\n",
        "\n",
        "    # Проход по всему датасету\n",
        "    for batch_id, batch in enumerate(iterator):\n",
        "        #  чтобы градиент не накапливался, его нужно обнулить\n",
        "        optimizer.zero_grad()\n",
        "        # получим предсказания модели\n",
        "        texts, labels = batch\n",
        "        texts, labels = texts.to(device), labels.to(device)\n",
        "        predictions = model(texts).squeeze(1)\n",
        "        loss = criterion(predictions, labels)\n",
        "        mse_ = mse(predictions, labels)\n",
        "\n",
        "        # сделаем back-propagation для подсчёта градиентов\n",
        "        loss.backward()\n",
        "        # выполним шаг оптимизатора\n",
        "        optimizer.step()\n",
        "        # обновим метрики\n",
        "        epoch_loss += loss.item()\n",
        "        epoch_mse += mse_.item()\n",
        "        train_loss_history.append(loss.item())\n",
        "\n",
        "    return epoch_loss / len(iterator), epoch_mse / len(iterator)\n",
        "\n",
        "\n",
        "def evaluate(model, iterator, criterion, val_loss_history=None):\n",
        "    \"\"\"\n",
        "    Функция для применения модели на валидационном/тестовом датасете и подсчёта\n",
        "    её точности.\n",
        "\n",
        "    Параметры.\n",
        "    1) model — модель,\n",
        "    2) iterator — итератор датасета,\n",
        "    3) criterion — функция потерь.\n",
        "    \"\"\"\n",
        "\n",
        "    epoch_loss = 0\n",
        "    epoch_mse = 0\n",
        "\n",
        "    model.eval()\n",
        "\n",
        "    with torch.no_grad(): # отключим подсчёт градиентов на валидации\n",
        "        for batch_id, batch in enumerate(iterator):\n",
        "            texts, labels = batch\n",
        "            texts, labels = texts.to(device), labels.to(device)\n",
        "            # получим предсказания\n",
        "            predictions = model(texts).squeeze(1)\n",
        "            # посчитаем метрики\n",
        "            loss = criterion(predictions, labels)\n",
        "            mse_ = mse(predictions, labels)\n",
        "            # обновим метрики\n",
        "            epoch_loss += loss.item()\n",
        "            epoch_mse += mse_.item()\n",
        "            if val_loss_history is not None:\n",
        "                val_loss_history.append(loss.item())\n",
        "\n",
        "    return epoch_loss / len(iterator), epoch_mse / len(iterator)\n",
        "\n",
        "\n",
        "def epoch_time(start_time, end_time):\n",
        "    \"\"\"\n",
        "    Функция для подсчёта времени работы одной эпохи.\n",
        "\n",
        "    Параметры.\n",
        "    1) start_time — время начала запуска,\n",
        "    2) end_time — время завершения работы эпохи.\n",
        "    \"\"\"\n",
        "\n",
        "    elapsed_time = end_time - start_time\n",
        "    elapsed_mins = int(elapsed_time / 60)\n",
        "    elapsed_secs = int(elapsed_time - (elapsed_mins * 60))\n",
        "    return elapsed_mins, elapsed_secs"
      ]
    },
    {
      "cell_type": "markdown",
      "id": "c46419e8",
      "metadata": {
        "id": "c46419e8"
      },
      "source": [
        "Теперь определим итоговую функцию для всего цикла обучения:"
      ]
    },
    {
      "cell_type": "code",
      "execution_count": null,
      "id": "e4fa0a52",
      "metadata": {
        "id": "e4fa0a52"
      },
      "outputs": [],
      "source": [
        "def visualize_epoch(epoch, start_time, loss_history, mse_history):\n",
        "    \"\"\"\n",
        "    Функция для визуализации 1 эпохи.\n",
        "\n",
        "    Параметры.\n",
        "    1) epoch — номер эпохи,\n",
        "    2) start_time — время начала эпохи,\n",
        "    3) loss_history - tuple истории лосса на train и test,\n",
        "    4) mse_history - tuple истории MSE на train и test.\n",
        "    \"\"\"\n",
        "    # Посчитаем время работы одной эпохи\n",
        "    end_time = time.time()\n",
        "    epoch_mins, epoch_secs = epoch_time(start_time, end_time)\n",
        "\n",
        "    # Отобразим графики лоссов\n",
        "    clear_output(True)\n",
        "    plt.figure(figsize=(18, 6))\n",
        "\n",
        "    train_loss_history, val_loss_history = loss_history\n",
        "    plt.subplot(1, 3, 1)\n",
        "    plt.plot(train_loss_history)\n",
        "    plt.title(\"Train Loss\")\n",
        "    plt.xlabel(\"Номер батча\")\n",
        "    plt.subplot(1, 3, 2)\n",
        "    plt.plot(val_loss_history, color=\"tab:orange\")\n",
        "    plt.title(\"Valid Loss\")\n",
        "    plt.xlabel(\"Номер батча\")\n",
        "\n",
        "    # Отрисуем значение MSE от эпохи\n",
        "    train_mse_history, val_mse_history = mse_history\n",
        "    plt.subplot(1, 3, 3)\n",
        "    plt.plot(train_mse_history, label=\"Train\")\n",
        "    plt.plot(val_mse_history, label=\"Valid\")\n",
        "    plt.legend()\n",
        "    plt.title(\"MSE\")\n",
        "    plt.xlabel(\"Номер эпохи\")\n",
        "    plt.show()\n",
        "\n",
        "    print(\n",
        "        f\"Номер эпохи: {epoch+1:02} | Время обучения эпохи: {epoch_mins}m {epoch_secs}s\"\n",
        "    )\n",
        "\n",
        "\n",
        "def training_loop(model_instance, n_epochs=10):\n",
        "    \"\"\"\n",
        "    Функция для обучения нейронной сети.\n",
        "\n",
        "    Параметры.\n",
        "    1) model_instance — обучаемая модель,\n",
        "    2) n_epochs — количество эпох.\n",
        "    \"\"\"\n",
        "\n",
        "    best_valid_loss = float(\"inf\")\n",
        "    train_loss_history = []\n",
        "    val_loss_history = []\n",
        "    train_mse_history = []\n",
        "    val_mse_history = []\n",
        "\n",
        "    for epoch in range(n_epochs):\n",
        "        start_time = time.time()\n",
        "        # Обучим одну эпоху на обучающем датасете\n",
        "        train_loss, train_mse = train(\n",
        "            model_instance,\n",
        "            train_loader,\n",
        "            optimizer,\n",
        "            criterion,\n",
        "            train_loss_history,\n",
        "        )\n",
        "        train_mse_history.append(train_mse)\n",
        "\n",
        "        # Оценим ошибку модели на тестовом датасете\n",
        "        valid_loss, valid_mse = evaluate(\n",
        "            model_instance, valid_loader, criterion, val_loss_history\n",
        "        )\n",
        "        val_mse_history.append(valid_mse)\n",
        "\n",
        "        # Если значение функции потерь улучшилось, сохраним параметры модели\n",
        "        if valid_loss < best_valid_loss:\n",
        "            best_valid_loss = valid_loss\n",
        "            torch.save(model_instance.state_dict(), \"model_checkpoint.pt\")\n",
        "\n",
        "        # Визуализируем результаты эпохи\n",
        "        visualize_epoch(\n",
        "            epoch,\n",
        "            start_time,\n",
        "            (train_loss_history, val_loss_history),\n",
        "            (train_mse_history, val_mse_history),\n",
        "        )"
      ]
    },
    {
      "cell_type": "code",
      "execution_count": null,
      "id": "089f4846",
      "metadata": {
        "id": "089f4846",
        "colab": {
          "base_uri": "https://localhost:8080/"
        },
        "outputId": "814fc569-f78d-48e8-d84c-9c1a91b7a490"
      },
      "outputs": [
        {
          "output_type": "execute_result",
          "data": {
            "text/plain": [
              "SimpleRNNRegressor(\n",
              "  (emb): Embedding(25002, 256, padding_idx=25001)\n",
              "  (rnn): LSTM(256, 8, num_layers=10, batch_first=True)\n",
              "  (classifier): Linear(in_features=8, out_features=1, bias=True)\n",
              ")"
            ]
          },
          "metadata": {},
          "execution_count": 28
        }
      ],
      "source": [
        "# У нас задача регрессии, будем использовать MSELoss\n",
        "criterion = nn.MSELoss()\n",
        "\n",
        "history = []\n",
        "\n",
        "# Задайте параметры сети\n",
        "model = SimpleRNNRegressor(\n",
        "    num_tokens=len(vocab),\n",
        "    emb_size=256,\n",
        "    rnn_num_units=8,\n",
        "    output_dim=1,\n",
        "    layers=10,\n",
        "    ).to(device)\n",
        "\n",
        "optimizer = torch.optim.Adam(model.parameters(), lr=0.005)\n",
        "# Посмотрите на получившуюся модель\n",
        "model"
      ]
    },
    {
      "cell_type": "markdown",
      "id": "38572121",
      "metadata": {
        "id": "38572121"
      },
      "source": [
        "Обучите несколько моделей с различными гиперпараметрами (например, шаг обучения, размер словаря, архитектура) и сравните их качество на тестовой выборке.\n",
        "\n",
        "*Не пугайтесь, если у вас не будет получаться хорошее качество на валидации: решаемая задача довольно сложная, а RNN &mdash; достаточно простая архитектура. Но постарайтесь, чтобы модель хотя бы не вырождалась в константу. Для этого следите за переобучением!*\n",
        "\n",
        "*На 3 курсе вы сможете познакомиться с моделями, которые решают такую задачу гораздо лучше.*"
      ]
    },
    {
      "cell_type": "markdown",
      "source": [
        "###Модель 1###"
      ],
      "metadata": {
        "id": "DrfqQValGE9r"
      },
      "id": "DrfqQValGE9r"
    },
    {
      "cell_type": "code",
      "execution_count": null,
      "id": "9d955871",
      "metadata": {
        "id": "9d955871"
      },
      "outputs": [],
      "source": [
        "model = SimpleRNNRegressor(\n",
        "    num_tokens=len(vocab),\n",
        "    emb_size=256,\n",
        "    rnn_num_units=6,\n",
        "    output_dim=1,\n",
        "    layers=2,\n",
        ").to(device)\n",
        "\n",
        "criterion = nn.MSELoss()\n",
        "optimizer = torch.optim.Adam(model.parameters(), lr=0.005)\n",
        "history = []"
      ]
    },
    {
      "cell_type": "code",
      "source": [
        "training_loop(model.to(device), n_epochs=20)"
      ],
      "metadata": {
        "colab": {
          "base_uri": "https://localhost:8080/",
          "height": 434
        },
        "id": "mEYX25a6MnQE",
        "outputId": "723ea6d5-46cb-47eb-b6af-82ef18cff686"
      },
      "id": "mEYX25a6MnQE",
      "execution_count": null,
      "outputs": [
        {
          "output_type": "display_data",
          "data": {
            "text/plain": [
              "<Figure size 1800x600 with 3 Axes>"
            ],
            "image/png": "[encoded data removed]"
          },
          "metadata": {}
        },
        {
          "output_type": "stream",
          "name": "stdout",
          "text": [
            "Номер эпохи: 20 | Время обучения эпохи: 0m 32s\n"
          ]
        }
      ]
    },
    {
      "cell_type": "markdown",
      "source": [
        "Модель начинает заметно обучаться после 9 эпохи"
      ],
      "metadata": {
        "id": "_1vmcNTAksOZ"
      },
      "id": "_1vmcNTAksOZ"
    },
    {
      "cell_type": "markdown",
      "source": [
        "Модель 2"
      ],
      "metadata": {
        "id": "XkdxFPdYWp96"
      },
      "id": "XkdxFPdYWp96"
    },
    {
      "cell_type": "code",
      "source": [
        "model = SimpleRNNRegressor(\n",
        "    num_tokens=len(vocab),\n",
        "    emb_size=256,\n",
        "    rnn_num_units=16,\n",
        "    output_dim=1,\n",
        "    layers=1,\n",
        ").to(device)\n",
        "\n",
        "criterion = nn.MSELoss()\n",
        "optimizer = torch.optim.Adam(model.parameters(), lr=0.005)\n",
        "history = []"
      ],
      "metadata": {
        "id": "rMishSSOWsXr"
      },
      "id": "rMishSSOWsXr",
      "execution_count": null,
      "outputs": []
    },
    {
      "cell_type": "code",
      "source": [
        "training_loop(model, n_epochs=20)"
      ],
      "metadata": {
        "colab": {
          "base_uri": "https://localhost:8080/",
          "height": 434
        },
        "id": "-Yml0p53W61N",
        "outputId": "76a9b6d1-15a7-4333-a16e-b6ebe52ff54c"
      },
      "id": "-Yml0p53W61N",
      "execution_count": null,
      "outputs": [
        {
          "output_type": "display_data",
          "data": {
            "text/plain": [
              "<Figure size 1800x600 with 3 Axes>"
            ],
            "image/png": "[encoded data removed]"
          },
          "metadata": {}
        },
        {
          "output_type": "stream",
          "name": "stdout",
          "text": [
            "Номер эпохи: 20 | Время обучения эпохи: 0m 36s\n"
          ]
        }
      ]
    },
    {
      "cell_type": "markdown",
      "source": [
        "Модель практически не обучается"
      ],
      "metadata": {
        "id": "NQ_lq2Ttk_jy"
      },
      "id": "NQ_lq2Ttk_jy"
    },
    {
      "cell_type": "markdown",
      "source": [
        "Модель 3"
      ],
      "metadata": {
        "id": "FNRcjk4FeKgR"
      },
      "id": "FNRcjk4FeKgR"
    },
    {
      "cell_type": "code",
      "source": [
        "model = SimpleRNNRegressor(\n",
        "    num_tokens=len(vocab),\n",
        "    emb_size=256,\n",
        "    rnn_num_units=16,\n",
        "    output_dim=1,\n",
        "    layers=5,\n",
        ").to(device)\n",
        "\n",
        "criterion = nn.MSELoss()\n",
        "optimizer = torch.optim.Adam(model.parameters(), lr=0.005)\n",
        "history = []"
      ],
      "metadata": {
        "id": "PFxxakafeJUf"
      },
      "id": "PFxxakafeJUf",
      "execution_count": null,
      "outputs": []
    },
    {
      "cell_type": "code",
      "source": [
        "training_loop(model, n_epochs=20)"
      ],
      "metadata": {
        "colab": {
          "base_uri": "https://localhost:8080/",
          "height": 434
        },
        "id": "XjZvS0lCePEI",
        "outputId": "83b67f2c-dd3d-410d-931a-c10c155bcbbe"
      },
      "id": "XjZvS0lCePEI",
      "execution_count": null,
      "outputs": [
        {
          "output_type": "display_data",
          "data": {
            "text/plain": [
              "<Figure size 1800x600 with 3 Axes>"
            ],
            "image/png": "[encoded data removed]"
          },
          "metadata": {}
        },
        {
          "output_type": "stream",
          "name": "stdout",
          "text": [
            "Номер эпохи: 20 | Время обучения эпохи: 0m 49s\n"
          ]
        }
      ]
    },
    {
      "cell_type": "markdown",
      "source": [
        "Модель дает самый лучший результат среди сех остальных, начинает обучаться после 8 эпохи и давольно резко"
      ],
      "metadata": {
        "id": "VguKerI9lEEv"
      },
      "id": "VguKerI9lEEv"
    },
    {
      "cell_type": "markdown",
      "source": [
        "Модель 4"
      ],
      "metadata": {
        "id": "wCgQmKgKjccF"
      },
      "id": "wCgQmKgKjccF"
    },
    {
      "cell_type": "code",
      "source": [
        "model = SimpleRNNRegressor(\n",
        "    num_tokens=len(vocab),\n",
        "    emb_size=256,\n",
        "    rnn_num_units=8,\n",
        "    output_dim=1,\n",
        "    layers=5,\n",
        ").to(device)\n",
        "\n",
        "criterion = nn.MSELoss()\n",
        "optimizer = torch.optim.Adam(model.parameters(), lr=0.005)\n",
        "history = []"
      ],
      "metadata": {
        "id": "C6ZsFvZLjh3-"
      },
      "id": "C6ZsFvZLjh3-",
      "execution_count": null,
      "outputs": []
    },
    {
      "cell_type": "code",
      "source": [
        "training_loop(model, n_epochs=20)"
      ],
      "metadata": {
        "colab": {
          "base_uri": "https://localhost:8080/",
          "height": 434
        },
        "id": "qLnygDxcjnDo",
        "outputId": "728c687d-9836-4404-adfe-508434848f1d"
      },
      "id": "qLnygDxcjnDo",
      "execution_count": null,
      "outputs": [
        {
          "output_type": "display_data",
          "data": {
            "text/plain": [
              "<Figure size 1800x600 with 3 Axes>"
            ],
            "image/png": "[encoded data removed]"
          },
          "metadata": {}
        },
        {
          "output_type": "stream",
          "name": "stdout",
          "text": [
            "Номер эпохи: 20 | Время обучения эпохи: 0m 44s\n"
          ]
        }
      ]
    },
    {
      "cell_type": "markdown",
      "source": [
        "Модель ведет себя примерно как и треться, но начинает обучаться раньше и не так хорошо"
      ],
      "metadata": {
        "id": "UW0TtyPPlYFL"
      },
      "id": "UW0TtyPPlYFL"
    },
    {
      "cell_type": "markdown",
      "source": [
        "Модель 5"
      ],
      "metadata": {
        "id": "sNMJpu-krnSc"
      },
      "id": "sNMJpu-krnSc"
    },
    {
      "cell_type": "code",
      "source": [
        "model = SimpleRNNRegressor(\n",
        "    num_tokens=len(vocab),\n",
        "    emb_size=256,\n",
        "    rnn_num_units=5,\n",
        "    output_dim=1,\n",
        "    layers=10,\n",
        ").to(device)\n",
        "\n",
        "criterion = nn.MSELoss()\n",
        "optimizer = torch.optim.Adam(model.parameters(), lr=0.005)\n",
        "history = []"
      ],
      "metadata": {
        "id": "x2CuB1uurpSZ"
      },
      "id": "x2CuB1uurpSZ",
      "execution_count": null,
      "outputs": []
    },
    {
      "cell_type": "code",
      "source": [
        "training_loop(model, n_epochs=20)"
      ],
      "metadata": {
        "colab": {
          "base_uri": "https://localhost:8080/",
          "height": 437
        },
        "id": "H1sHjjDdr3p1",
        "outputId": "feda2da0-28c8-4c43-d6de-f533d656b809"
      },
      "id": "H1sHjjDdr3p1",
      "execution_count": null,
      "outputs": [
        {
          "output_type": "display_data",
          "data": {
            "text/plain": [
              "<Figure size 1800x600 with 3 Axes>"
            ],
            "image/png": "[encoded data removed]"
          },
          "metadata": {}
        },
        {
          "output_type": "stream",
          "name": "stdout",
          "text": [
            "Номер эпохи: 20 | Время обучения эпохи: 1m 7s\n"
          ]
        }
      ]
    },
    {
      "cell_type": "markdown",
      "source": [
        "Модель начинает обучаться после 13 эпохи и не достигает уровня двух предыдущих"
      ],
      "metadata": {
        "id": "Zy2Tct7Ol1h8"
      },
      "id": "Zy2Tct7Ol1h8"
    },
    {
      "cell_type": "markdown",
      "id": "fea35795",
      "metadata": {
        "id": "fea35795"
      },
      "source": [
        "Выведите несколько примеров работы на тестовой выборке: текст вакансии, предсказание вашей модели и истинное значение зарплаты. Чтобы вернуть все значения к изначальным масштабам, используйте `scaler.inverse_transform(...)`. Также посчитайте MSE на всей тестовой выборке."
      ]
    },
    {
      "cell_type": "markdown",
      "source": [
        "Будем проверять на самой лучшей, тоесть третьей моделе. MSE у нее 0.0043"
      ],
      "metadata": {
        "id": "Xk5HlA8omXVS"
      },
      "id": "Xk5HlA8omXVS"
    },
    {
      "cell_type": "code",
      "execution_count": null,
      "id": "12629e3a",
      "metadata": {
        "id": "12629e3a",
        "colab": {
          "base_uri": "https://localhost:8080/"
        },
        "outputId": "0bbf30e7-7c52-4d5b-9107-f59be8f6bed9"
      },
      "outputs": [
        {
          "output_type": "stream",
          "name": "stdout",
          "text": [
            "====================\n",
            "\n",
            "Тext: Technical Product Manager  LAMP  Windows  Java  SQL  Software Development Life Cycle  Stakeholder Management  Fluent German. Technical Product Manager  Great opportunity for a Technical Product Manager to join a reputable organisation taking ownershi...\n",
            "Истинное значение: 50000\n",
            "Предсказание: 51064\n",
            "====================\n",
            "\n",
            "Тext: Our Client one of the countries leading insurance agencies are looking for a Sales Executive to join their rapidly expanding team. Your role will be to provide quotations and to negotiate To provide insurance quotations to prospective clients in a po...\n",
            "Истинное значение: 25000\n",
            "Предсказание: 25814\n",
            "====================\n",
            "\n",
            "Тext: Our client, a highly respected insurer based in Herts, is looking to recruit a Claims Manager to manage the Household claims division. You will have overall responsibility for up to **** staff and be responsible for the management of both people and ...\n",
            "Истинное значение: 42500\n",
            "Предсказание: 38490\n",
            "====================\n",
            "\n",
            "Тext: My Client, one of the UK s most dynamic and fastgrowing Facilities Management services providers are looking for a Payroll Consultant to join their Norwich based Team. This person will be managing a number of complex payrolls from start to finish inc...\n",
            "Истинное значение: 25000\n",
            "Предсказание: 35057\n",
            "====================\n",
            "\n",
            "Тext: Our growth client based in North Birmingham is recruiting a Management Accountant to join its existing Finance team. As a new role, this is a highprofile position which will bring insightful information to the wider business. Brief responsibilities a...\n",
            "Истинное значение: 32500\n",
            "Предсказание: 39622\n"
          ]
        }
      ],
      "source": [
        "indices = torch.randint(low=0, high=len(dataset), size=(5,))\n",
        "with torch.no_grad():\n",
        "    for idx in indices:\n",
        "        text, target = dataset.loc[int(idx)]\n",
        "        tokens = vocab(tokenizer(text))\n",
        "        tokens = torch.LongTensor(tokens).to(device)\n",
        "        output = model(tokens).squeeze(1)\n",
        "        print('=' * 20 + '\\n')\n",
        "        print(f'Тext: {text[:250]}...')\n",
        "        print(f'Истинное значение: {target}')\n",
        "        print(f'Предсказание: {int(scaler.inverse_transform(output.cpu()[-1].reshape(1, -1)).item())}')"
      ]
    },
    {
      "cell_type": "markdown",
      "id": "92a23329",
      "metadata": {
        "id": "92a23329"
      },
      "source": [
        "**Вывод:** С помощью RNN мы смогли предсказывать зарплату по описанию вокансии. Хоть RNN и вестьма примитивна, но предсказания иногда бывют довольно точными, что не может не радовать\n",
        "\n",
        "Проанализировав различные модели можно сделать вывод, что наиболее выжно количество слоев у модели. Так модель с одним слоем так и не обучилась нормально, в то время как остальные начали обучаться. rnn_num_units тоже влияет на качество обучения. Так при прочих равных модель с большим rnn_num_units показывает лучшее качество. Так же стоит заметить, что чем больше эпох, тем лучше качество, возможно, если поставить 100 эпох, то можель будет очень хорошо справляться с данной задачей, но скорее всего просто переобучится\n",
        "\n",
        "Стоит отметить, что время сильнее всего зависит от количества слоев, при увеличении числа слоев время обучения растет довольно сильно."
      ]
    },
    {
      "cell_type": "markdown",
      "id": "3dc296de",
      "metadata": {
        "id": "3dc296de"
      },
      "source": [
        "---\n",
        "### Задача 2. Использование большой языковой модели\n"
      ]
    },
    {
      "cell_type": "markdown",
      "id": "8099f7ad",
      "metadata": {
        "id": "8099f7ad"
      },
      "source": [
        "Ваша задача &mdash; применить <a target=\"_blank\" href=\"https://llama-2.ai/\">Llama 2</a> к предыдущей задаче и заставить ее предсказать заработную плату по текстовому описанию. Существует мало русскоязычных моделей, способных решить такую задачу и помещающихся в <a target=\"_blank\" href=\"https://colab.research.google.com/\">Colab</a>, поэтому вам придется писать запросы на английском!"
      ]
    },
    {
      "cell_type": "code",
      "execution_count": 3,
      "id": "1a7d4592",
      "metadata": {
        "id": "1a7d4592"
      },
      "outputs": [],
      "source": [
        "!pip install bitsandbytes==0.41.1 transformers==4.34.1 accelerate==0.24.0 sentencepiece==0.1.99 optimum==1.13.2 auto-gptq==0.4.2  > null\n",
        "import transformers\n",
        "import bitsandbytes as bnb\n",
        "\n",
        "assert torch.cuda.is_available(), \"для этой части понадобится GPU\""
      ]
    },
    {
      "cell_type": "code",
      "source": [
        "print(dataset.iloc[100][\"FullDescription\"], dataset.iloc[100][\"SalaryNormalized\"])\n",
        "print(dataset.iloc[300][\"FullDescription\"], dataset.iloc[300][\"SalaryNormalized\"])\n",
        "print(dataset.iloc[301][\"FullDescription\"], dataset.iloc[301][\"SalaryNormalized\"])\n",
        "print(dataset.iloc[44][\"FullDescription\"], dataset.iloc[44][\"SalaryNormalized\"])"
      ],
      "metadata": {
        "colab": {
          "base_uri": "https://localhost:8080/"
        },
        "id": "sN2cnsZOS1ks",
        "outputId": "dbcfb687-d9e2-4b60-c1c4-03391835971f"
      },
      "id": "sN2cnsZOS1ks",
      "execution_count": null,
      "outputs": [
        {
          "output_type": "stream",
          "name": "stdout",
          "text": [
            "Position: Junior Packaging Designer Location: London Salary: ****k Ref: **** Client based in West London is currently on the look out for junior packaging designer to join the studio team. The company specialise in a wide range of packaging for a number of products The ideal candidate will have some commercial experience may be a placement or some freelance work. Good set of packages to a high standard As well as the finished work would be good to show some sketch work in the examples. If you can **** or **** examples on a PDF document something to present to the client. Please make sure that your full address and details are included in your application for this role 13000\n",
            "Job Title  PLC Software Engineer Location  Birmingham or Bedford Up to **** per annum (experience dependant)  Car The Role Our client is a rapidly expanding multimillion pound business with sites across Europe. Specialising in fully automated materials handling solutions their customers include the likes of BMW, Bentley, Aston Martin, Amazon and Parcel Force to name a few. They are urgently seeking a PLC Software Engineer to join their experienced team. Candidates must be able code PLC from scratch, Siemens or Rockwell is preferable but not essential. The successful candidate will work closely with both the Project Manager s and Engineers, as well as Sales staff and on site contractors to ensure the project is delivered on time and to schedule. The majority of your time will be spent writing code for fully automated systems, with the rest spent on site working with the Commissioning Engineers at the point of installation. The PLC Software Engineer will also be required to act as a trouble shooter and liaise with service support staff in rectifying problems, which may require radical solutions to problems. The successful candidate would also be required to work on site when needed. The Candidate To be successful in your application you must have the following skills or attributes: Must be able to write PLC code from scratch (Siemens S**** or Rockwell preferable). Must be willing to travel across the UK and stay away. Must be selfmotivated. A minimum of 5 years experience writing code. The Benefits Basic salary  Up to **** depending on experience. Company Car  Large range available including Audi and BMW. Holidays  23 days  **** statutory days. Pension & Bupa healthcare available. Funded training available 36500\n",
            "MRI Radiographer Cambridge ****  **** regional allowance I am currently recruiting for an experience MRI Radiographer to work for a private hospital in Cambridge. Your main responsibilities will include; providing highly skilled and specialised MRI imaging for patients within the radiographic department. You will develop positive working relationships with consultant users and GPs and maintain effective working relationships within the hospital. Who we are looking for people with a Degree (BSc Honours in Radiography or equivalent qualification). Post graduate qualification in MRI along with UK based post graduate experience in imaging including a period of specialising in MRI. For more information or to apply for the role please call Lydia Robinson on **** **** and email your CV to lydia.robinsonappointgroup.co.uk 30500\n",
            "Experience Wayside Communication Systems Engineer, required to work with a leading Train company in the East Midlands. Must have worked at Systems Architect level, covering Hardware, Software and Systems solutions. As an experienced train to wayside communications systems engineer, the primary activities involved in the role are to develop the communications and dataprocessing philosophies and technical roadmap, define the hardware architectures, liaise with suppliers, specify software requirements and vehicle test the resultant systems. You will also be required to commission the communications and dataprocessing systems on the trains and on the wayside postmanufacture, and to investigate and determine solutions for any problems found in use. In addition, you will need to provide cost and schedule estimates on complicated engineering programs, and provide technical expertise in support of other departments and less experienced engineering personnel. Qualifications Functional Knowledge: Degree and/or Chartered status essential (or similar), Masters Degree desirable. Technical domain experience essential, System Integration experience essential, System Architectural understanding essential. Rail experience preferred. Significant experience and hands on delivery of the design, analysis, development, testing and delivery of engineering solutions that solve complex requirements. Provide cost and schedule estimates on complicated engineering programs. Provide technical expertise in train to wayside communication systems Be able to demonstrate the ability to use this technical knowledge in the support of other departments (engineering, production, procurement, projects) and the development of less experienced engineering personnel. To apply for this position, candidates must be eligible to live and work in the UK Matchtech is acting as an Employment Business in relation to this vacancy. 57500\n"
          ]
        }
      ]
    },
    {
      "cell_type": "markdown",
      "id": "e154b2c4",
      "metadata": {
        "id": "e154b2c4"
      },
      "source": [
        "Дисклеймер: *использовать LLM в рамках ограничений Colab хоть и возможно, но очень трудно.*\n",
        "\n",
        "> Так как процесс генерации очень хрупкий и может сломаться при любом неверном движении, мы настоятельно рекомендуем **сохранить результаты предыдущего задания в отдельном файле** и приступать к этой задаче в самом конце. Решения задач можно сдавать в бот разными файлами.\n",
        "\n",
        "> Если у вас возникла ошибка `Out of memory`, перезапустите ноутбук и попробуйте снова. Да, языковые модели без своей GPU &mdash; это тяжело..."
      ]
    },
    {
      "cell_type": "markdown",
      "id": "f50fa96c",
      "metadata": {
        "id": "f50fa96c"
      },
      "source": [
        "\n",
        "\n",
        "\n",
        "\n",
        "От вас требуется подобрать такой промпт, который приводил бы к нужному выводу модели. Можете экспериментировать с параметрами генерации, список которых можно посмотреть в <a target=\"_blank\" href=\"https://github.com/huggingface/transformers/blob/c4d4e8bdbd25d9463d41de6398940329c89b7fb6/src/transformers/generation_utils.py#L101\">исходнике</a>.\n",
        "\n",
        "Существуют различные техники, которые могут помочь вам \"разговорить\" языковую модель. О многих из них вы сможете прочитать <a target=\"_blank\" href=\"https://docs.mistral.ai/guides/prompting-capabilities/\">здесь</a>. В нашем случае полезным может быть метод Few-Shot Learning, который заключается в предоставлении модели нескольких примеров."
      ]
    },
    {
      "cell_type": "code",
      "execution_count": 4,
      "id": "3d0ba8e1",
      "metadata": {
        "id": "3d0ba8e1",
        "colab": {
          "base_uri": "https://localhost:8080/",
          "height": 365,
          "referenced_widgets": [
            "4191ad13e56c44eba6b075f262236996",
            "cbc6c428afdc40c89d870d00cce00fb8",
            "23e3cedae52443f0a40388c7a751ee71",
            "a0da4cb6422e45cba92bcd2cab49bdec",
            "c8fd7d50cff1419382472b0fdd827746",
            "477a9f701eba4fb4bbfdeccc7beef65b",
            "946b08d12f3c48098874fc111214419a",
            "483b886353ba480dbc6448480cdc2037",
            "1f0f9cb7f13440739c6ecb62ebbf9843",
            "913679831d6e450db427b9c75a7b24e8",
            "d181d2f72a3849219d266586680621a4",
            "1681eec429704558baa3ea102ce3f56c",
            "e9e5a1ba4e11419c945f0648a303c4a9",
            "ee8dd16e698c4288b117b7db50b1aee5",
            "7f2db3e7d1be4799a86ec956c28f159d",
            "cc58137ab736455e88cbcbbbd58bf93b",
            "84f2f9abdfbc43dba9d4a1f223c7f9ae",
            "44f56bc0f5ff4807baf352c5b4185663",
            "9ab63f5aa28c42c8bba2c4caee5637bc",
            "ce8fefe251ac4a3f8899cb59f88a66c7",
            "8691f1efab0146d6a6e41f237323d4e0",
            "017cef8e766c40d388a8214fd05f81af",
            "1494b576ec794539a2d27b47332880a2",
            "73c09e7e3510487bb18510866a9edecc",
            "0c9c705f1be94fe38ea2b89d63b657d4",
            "5928de6d700b422889acb0b016fe4dc2",
            "3a7e958d763a4b609092a9578e51ab6f",
            "64c2429d86104ed3a5bc31e760c182b6",
            "d0cb8b1885c54a78a01156f7adec99c8",
            "dc495a956cea42d39d034db887936b89",
            "03772ba1855b474dad46ff07d09faaef",
            "0dbc2610182545018e6056c54291f042",
            "8fb069e117994297a78c75b9be1cd060",
            "62b0bbf37a194cd0a78bc2b99be1d973",
            "1e4d681f206145489f6a982484b9c2ea",
            "26a50c1b1ca2486ca861038f45c660f5",
            "714e9e83f1e64cb38657287abc080595",
            "37ef8a432ce94b00839cc399ae7716bd",
            "6d0408d777354740aeb4d99160b2b3c9",
            "4f9c7b94b0ae4350998d5dbb9a7c4404",
            "48318b01453c4379b69d2675bf2de90e",
            "fc2ddcb91ea74fb6bc5dba25a3804f42",
            "5a95322553694670b8a654dfb1672995",
            "ca8e9648a2534adb85e0cbf92ab30766",
            "dc976fdc33f7427e8c1f5905859cb7df",
            "c1f870ed7c2f4ff4918b890e948ae667",
            "1d2090c7394f4b31a49068df579d8314",
            "0ea7d54bf6f840ffb5e959001cf9cb43",
            "244fef25e1d844029f5ebf4671d57bbc",
            "d11b95a3208840a99470e0b43d875449",
            "704bd91e317946139ee3fab2b2c95906",
            "ed2d6d50271b4181b96bd537d971dda0",
            "6038ada5611c47d6a79599e9a3066404",
            "bcad220cc3a24a5299e388262b2690e9",
            "2203b44089fb41ac82805c5e2df15f73",
            "e4361ee8233a48e4b82ea440714f7779",
            "f577fc071fbc4ff7ac734e31f84abd93",
            "f25898343edf44e58263754b64c21d90",
            "c353ca51effb4d5fa58821de7d14475c",
            "b6b47b99e2554db09dbb24a079920b7b",
            "0c274dc40e3e4c278bb96e74db371c74",
            "5af9f68765234401b5ef64b0b5632302",
            "e952b891dfae4f17befdf46ae5c4e022",
            "9b5ea92a9c234a9ca94c1b2fca088f12",
            "207c9c3a25f14750a445d114b974ea20",
            "aa83e6f287ea42fe96ad308e83ae4269",
            "45285ab6a86e4719bc2814af5df715c5",
            "f1e02eb0a6b443209a37d1ac8c43e42d",
            "7f866a8d04494f0b87513e5529f6d5b9",
            "8eb206042c4147008f1360a349fc932e",
            "df549272df3f4b10ab24352c8793f654",
            "5e41044afbb242a7847b1372e822951c",
            "7204cf5a63e34ac98fa1e1e616b98832",
            "a41f6a00b65c484da43231d87d1e2a93",
            "80535317ec974efaab2dedf9df816a3a",
            "35d82605876d4346872c010c9776fcfe",
            "2969205400c1424ca4b10ed54fc41898"
          ]
        },
        "outputId": "157b8d3a-a1b0-47c9-b6b4-00f22e7d70a1"
      },
      "outputs": [
        {
          "output_type": "display_data",
          "data": {
            "text/plain": [
              "Downloading tokenizer_config.json:   0%|          | 0.00/727 [00:00<?, ?B/s]"
            ],
            "application/vnd.jupyter.widget-view+json": {
              "version_major": 2,
              "version_minor": 0,
              "model_id": "4191ad13e56c44eba6b075f262236996"
            }
          },
          "metadata": {}
        },
        {
          "output_type": "display_data",
          "data": {
            "text/plain": [
              "Downloading tokenizer.model:   0%|          | 0.00/500k [00:00<?, ?B/s]"
            ],
            "application/vnd.jupyter.widget-view+json": {
              "version_major": 2,
              "version_minor": 0,
              "model_id": "1681eec429704558baa3ea102ce3f56c"
            }
          },
          "metadata": {}
        },
        {
          "output_type": "display_data",
          "data": {
            "text/plain": [
              "Downloading (…)cial_tokens_map.json:   0%|          | 0.00/411 [00:00<?, ?B/s]"
            ],
            "application/vnd.jupyter.widget-view+json": {
              "version_major": 2,
              "version_minor": 0,
              "model_id": "1494b576ec794539a2d27b47332880a2"
            }
          },
          "metadata": {}
        },
        {
          "output_type": "display_data",
          "data": {
            "text/plain": [
              "Downloading tokenizer.json:   0%|          | 0.00/1.84M [00:00<?, ?B/s]"
            ],
            "application/vnd.jupyter.widget-view+json": {
              "version_major": 2,
              "version_minor": 0,
              "model_id": "62b0bbf37a194cd0a78bc2b99be1d973"
            }
          },
          "metadata": {}
        },
        {
          "output_type": "stream",
          "name": "stderr",
          "text": [
            "You are using the default legacy behaviour of the <class 'transformers.models.llama.tokenization_llama.LlamaTokenizer'>. This is expected, and simply means that the `legacy` (previous) behavior will be used so nothing changes for you. If you want to use the new behaviour, set `legacy=False`. This should only be set if you understand what it means, and thouroughly read the reason why this was added as explained in https://github.com/huggingface/transformers/pull/24565\n"
          ]
        },
        {
          "output_type": "display_data",
          "data": {
            "text/plain": [
              "Downloading config.json:   0%|          | 0.00/913 [00:00<?, ?B/s]"
            ],
            "application/vnd.jupyter.widget-view+json": {
              "version_major": 2,
              "version_minor": 0,
              "model_id": "dc976fdc33f7427e8c1f5905859cb7df"
            }
          },
          "metadata": {}
        },
        {
          "output_type": "stream",
          "name": "stderr",
          "text": [
            "/usr/local/lib/python3.10/dist-packages/transformers/utils/generic.py:311: UserWarning: torch.utils._pytree._register_pytree_node is deprecated. Please use torch.utils._pytree.register_pytree_node instead.\n",
            "  torch.utils._pytree._register_pytree_node(\n",
            "/usr/local/lib/python3.10/dist-packages/transformers/utils/generic.py:311: UserWarning: torch.utils._pytree._register_pytree_node is deprecated. Please use torch.utils._pytree.register_pytree_node instead.\n",
            "  torch.utils._pytree._register_pytree_node(\n"
          ]
        },
        {
          "output_type": "display_data",
          "data": {
            "text/plain": [
              "Downloading model.safetensors:   0%|          | 0.00/7.26G [00:00<?, ?B/s]"
            ],
            "application/vnd.jupyter.widget-view+json": {
              "version_major": 2,
              "version_minor": 0,
              "model_id": "e4361ee8233a48e4b82ea440714f7779"
            }
          },
          "metadata": {}
        },
        {
          "output_type": "stream",
          "name": "stderr",
          "text": [
            "WARNING:auto_gptq.nn_modules.qlinear.qlinear_cuda_old:CUDA extension not installed.\n"
          ]
        },
        {
          "output_type": "display_data",
          "data": {
            "text/plain": [
              "Downloading generation_config.json:   0%|          | 0.00/132 [00:00<?, ?B/s]"
            ],
            "application/vnd.jupyter.widget-view+json": {
              "version_major": 2,
              "version_minor": 0,
              "model_id": "45285ab6a86e4719bc2814af5df715c5"
            }
          },
          "metadata": {}
        }
      ],
      "source": [
        "model_name = \"TheBloke/Llama-2-13B-GPTQ\"\n",
        "\n",
        "# Загружаем Llama токенизатор\n",
        "tokenizer = transformers.LlamaTokenizer.from_pretrained(\n",
        "    model_name, device_map=device\n",
        ")\n",
        "tokenizer.pad_token_id = tokenizer.eos_token_id\n",
        "\n",
        "# И саму модель Llama\n",
        "model = transformers.AutoModelForCausalLM.from_pretrained(\n",
        "    model_name,\n",
        "    device_map=\"auto\",\n",
        "    torch_dtype=torch.float16,\n",
        "    low_cpu_mem_usage=True,\n",
        "    offload_state_dict=True,\n",
        ")"
      ]
    },
    {
      "cell_type": "code",
      "execution_count": 8,
      "id": "168d479a",
      "metadata": {
        "id": "168d479a",
        "colab": {
          "base_uri": "https://localhost:8080/"
        },
        "outputId": "7a06f527-edee-4f61-bb99-78a6181b1c2a"
      },
      "outputs": [
        {
          "output_type": "stream",
          "name": "stdout",
          "text": [
            "\n",
            "Output: <s>Your task is to predict the employee’s salary based on the job description.\n",
            "\n",
            "            ###\n",
            "            Some examples for you:\n",
            "            Description:\n",
            "            Position: Junior Packaging Designer Location: London Salary: ****k Link: **** A client from West London is currently looking for a junior packaging designer to join the studio team. The company specializes in a wide range of packaging for a number of products, the ideal candidate should have some experience in the commercial field, perhaps as an intern or freelance employee. A good set of packages at a high level, as well as finished works, would be nice to show in examples. If you can **** or **** give examples in a PDF document to present something to the client. Please make sure that your full address and details are indicated in the application for this position\n",
            "            Salary: 13,000\n",
            "\n",
            "\n",
            "            Description:\n",
            "            Position PLC Software Engineer, Location Birmingham or Bedford, Salary up to **** per year (depends on experience) Working in this position Our client is a fast-growing multimillion-dollar business with branches throughout Europe. Their clients specializing in fully automated material handling solutions include companies such as BMW, Bentley, Aston Martin, Amazon and Parcel Force, among many others. They are urgently looking for a PLC software engineer to join their experienced team. Candidates should be able to program a PLC from scratch, Siemens or Rockwell is preferable, but not necessarily. The successful candidate will work closely with both project managers and engineers, as well as sales staff and contractors on site, to ensure that the project is completed on time according to schedule. Most of your time will be spent writing code for fully automated systems, and the rest will be spent working with on-site installation engineers. The PLC software engineer will also have to troubleshoot and communicate with the service support staff to troubleshoot problems that may require a radical solution. The successful candidate will also have to work locally if necessary. The candidate who will successfully complete your application must have the following skills or qualities: Must be able to write PLC code from scratch (preferably Siemens S**** or Rockwell). Must be prepared to travel around the UK and stay away from it. Must be highly motivated. At least 5 years of experience writing code. Advantages: The base salary is up to **** depending on experience. There is a large selection of official cars available, including Audi and BMW. Holidays are 23 days **** statutory days. Pension provision and medical care under the Bupa program are available. Funded training is available\n",
            "            Salary: 36,500\n",
            "\n",
            "\n",
            "            Description:\n",
            "            Specialist in MRI Radiology in Cambridge ******** Regional benefit I am currently recruiting an experienced specialist in MRI radiology to work at a private clinic in Cambridge. Your main responsibilities will include: providing highly qualified and specialized MRI imaging to patients in the radiology department. You will develop positive working relationships with consultant users and general practitioners and maintain effective working relationships in the hospital. For whom we are looking for people with higher education (bachelor's degree with honors in radiography or an equivalent qualification). Postgraduate qualifications in the field of MRI, as well as work experience in the UK in the field of imaging, including a period of specialization in the field of MRI. For more information or to apply for this position, please call Lydia Robinson at ******** and send your RESUME to: lydia.robinsonappointgroup.co.uk\n",
            "            Salary: 30,500\n",
            "            ###\n",
            "\n",
            "\n",
            "            Description:\n",
            "            Experience Wayside Communication Systems Engineer, required to work with a leading Train company in the East Midlands. Must have worked at Systems Architect level, covering Hardware, Software and Systems solutions. As an experienced train to wayside communications systems engineer, the primary activities involved in the role are to develop the communications and dataprocessing philosophies and technical roadmap, define the hardware architectures, liaise with suppliers, specify software requirements and vehicle test the resultant systems. You will also be required to commission the communications and dataprocessing systems on the trains and on the wayside postmanufacture, and to investigate and determine solutions for any problems found in use. In addition, you will need to provide cost and schedule estimates on complicated engineering programs, and provide technical expertise in support of other departments and less experienced engineering personnel. Qualifications Functional Knowledge: Degree and/or Chartered status essential (or similar), Masters Degree desirable. Technical domain experience essential, System Integration experience essential, System Architectural understanding essential. Rail experience preferred. Significant experience and hands on delivery of the design, analysis, development, testing and delivery of engineering solutions that solve complex requirements. Provide cost and schedule estimates on complicated engineering programs. Provide technical expertise in train to wayside communication systems Be able to demonstrate the ability to use this technical knowledge in the support of other departments (engineering, production, procurement, projects) and the development of less experienced engineering personnel. To apply for this position, candidates must be eligible to live and work in the UK Matchtech is acting as an Employment Business in relation to this vacancy.\n",
            "            What is the salary for this job? (answer only with a number)\n",
            "            Salary: 77,000\n",
            "\n",
            "\n",
            "            Description:\n",
            "            Description:\n",
            "            Position: Test Engineer, Location: Leeds Salary: up to **** per year (depending on experience) Working in this position: Our client is a fast growing multinational organization\n",
            "Input batch (encoded): {'input_ids': tensor([[    1,  3575,  3414,  ...,   263,  1353, 29897]], device='cuda:0'), 'attention_mask': tensor([[1, 1, 1,  ..., 1, 1, 1]], device='cuda:0')}\n"
          ]
        }
      ],
      "source": [
        "prompt = '''Your task is to predict the employee’s salary based on the job description.\n",
        "\n",
        "            ###\n",
        "            Some examples for you:\n",
        "            Description:\n",
        "            Position: Junior Packaging Designer Location: London Salary: ****k Link: **** A client from West London is currently looking for a junior packaging designer to join the studio team. The company specializes in a wide range of packaging for a number of products, the ideal candidate should have some experience in the commercial field, perhaps as an intern or freelance employee. A good set of packages at a high level, as well as finished works, would be nice to show in examples. If you can **** or **** give examples in a PDF document to present something to the client. Please make sure that your full address and details are indicated in the application for this position\n",
        "            Salary: 13,000\n",
        "\n",
        "\n",
        "            Description:\n",
        "            Position PLC Software Engineer, Location Birmingham or Bedford, Salary up to **** per year (depends on experience) Working in this position Our client is a fast-growing multimillion-dollar business with branches throughout Europe. Their clients specializing in fully automated material handling solutions include companies such as BMW, Bentley, Aston Martin, Amazon and Parcel Force, among many others. They are urgently looking for a PLC software engineer to join their experienced team. Candidates should be able to program a PLC from scratch, Siemens or Rockwell is preferable, but not necessarily. The successful candidate will work closely with both project managers and engineers, as well as sales staff and contractors on site, to ensure that the project is completed on time according to schedule. Most of your time will be spent writing code for fully automated systems, and the rest will be spent working with on-site installation engineers. The PLC software engineer will also have to troubleshoot and communicate with the service support staff to troubleshoot problems that may require a radical solution. The successful candidate will also have to work locally if necessary. The candidate who will successfully complete your application must have the following skills or qualities: Must be able to write PLC code from scratch (preferably Siemens S**** or Rockwell). Must be prepared to travel around the UK and stay away from it. Must be highly motivated. At least 5 years of experience writing code. Advantages: The base salary is up to **** depending on experience. There is a large selection of official cars available, including Audi and BMW. Holidays are 23 days **** statutory days. Pension provision and medical care under the Bupa program are available. Funded training is available\n",
        "            Salary: 36,500\n",
        "\n",
        "\n",
        "            Description:\n",
        "            Specialist in MRI Radiology in Cambridge ******** Regional benefit I am currently recruiting an experienced specialist in MRI radiology to work at a private clinic in Cambridge. Your main responsibilities will include: providing highly qualified and specialized MRI imaging to patients in the radiology department. You will develop positive working relationships with consultant users and general practitioners and maintain effective working relationships in the hospital. For whom we are looking for people with higher education (bachelor's degree with honors in radiography or an equivalent qualification). Postgraduate qualifications in the field of MRI, as well as work experience in the UK in the field of imaging, including a period of specialization in the field of MRI. For more information or to apply for this position, please call Lydia Robinson at ******** and send your RESUME to: lydia.robinsonappointgroup.co.uk\n",
        "            Salary: 30,500\n",
        "            ###\n",
        "\n",
        "\n",
        "            Description:\n",
        "            Experience Wayside Communication Systems Engineer, required to work with a leading Train company in the East Midlands. Must have worked at Systems Architect level, covering Hardware, Software and Systems solutions. As an experienced train to wayside communications systems engineer, the primary activities involved in the role are to develop the communications and dataprocessing philosophies and technical roadmap, define the hardware architectures, liaise with suppliers, specify software requirements and vehicle test the resultant systems. You will also be required to commission the communications and dataprocessing systems on the trains and on the wayside postmanufacture, and to investigate and determine solutions for any problems found in use. In addition, you will need to provide cost and schedule estimates on complicated engineering programs, and provide technical expertise in support of other departments and less experienced engineering personnel. Qualifications Functional Knowledge: Degree and/or Chartered status essential (or similar), Masters Degree desirable. Technical domain experience essential, System Integration experience essential, System Architectural understanding essential. Rail experience preferred. Significant experience and hands on delivery of the design, analysis, development, testing and delivery of engineering solutions that solve complex requirements. Provide cost and schedule estimates on complicated engineering programs. Provide technical expertise in train to wayside communication systems Be able to demonstrate the ability to use this technical knowledge in the support of other departments (engineering, production, procurement, projects) and the development of less experienced engineering personnel. To apply for this position, candidates must be eligible to live and work in the UK Matchtech is acting as an Employment Business in relation to this vacancy.\n",
        "            What is the salary for this job? (answer only with a number)'''\n",
        "batch = tokenizer(prompt, return_tensors='pt', return_token_type_ids=False).to(device)\n",
        "\n",
        "output_tokens = model.generate(**batch, max_new_tokens=64, do_sample=True, temperature=0.8)\n",
        "\n",
        "print(\"\\nOutput:\", tokenizer.decode(output_tokens[0].cpu()))\n",
        "\n",
        "print(\"Input batch (encoded):\", batch)"
      ]
    },
    {
      "cell_type": "markdown",
      "id": "44c5b71a",
      "metadata": {
        "id": "44c5b71a"
      },
      "source": [
        "Если почувствуете, что у вас не получается добиться от модели желаемого, вы можете попробовать воспользоваться любой другой языковой моделью на ваш выбор, но тогда вы получите **не больше 30 баллов**.\n",
        "\n",
        "В случае использования другой модели предоставьте скриншот ответа LLM и промпт, который вы использовали (в текстовом формате). Его можно вставить прямо в ноутбук или прислать в бот отдельным файлом."
      ]
    },
    {
      "cell_type": "code",
      "execution_count": null,
      "id": "3a570ad9",
      "metadata": {
        "id": "3a570ad9"
      },
      "outputs": [],
      "source": []
    },
    {
      "cell_type": "markdown",
      "id": "678a6737",
      "metadata": {
        "id": "678a6737"
      },
      "source": [
        "**Вывод:** Вероятно проблема в промтах, но тем ни менее. Данная модель работает отвратительно и не понимает, что от нее хотят. Очень сложно добиться от нее вывода числа, а не какого то непонятного текста. Предсказанная зарплата довольно далека от реальной (примерно на 25%), но и на том спасибо. При одном и том же запросе могут быть совершенно разные ответы (как будто из разных вселенных). Для обучения мы использовали способ few-shot, чтобы дать модели несколько примеров"
      ]
    },
    {
      "cell_type": "markdown",
      "id": "020fee33",
      "metadata": {
        "id": "020fee33"
      },
      "source": [
        "---\n",
        "*Если хотите отточить навык написания промптов &mdash; **prompt-engineering** &mdash; можете попробовать сыграть в <a target=\"_blank\" href=\"https://gandalf.lakera.ai/\">игру</a>. В ней нужно заставить Гендальфа выдать пароль. Со временем уровни становятся все сложнее и требуют более хитрых приемов.*"
      ]
    }
  ],
  "metadata": {
    "colab": {
      "provenance": [],
      "gpuType": "T4"
    },
    "hide_input": false,
    "kernelspec": {
      "display_name": "Python 3",
      "name": "python3"
    },
    "language_info": {
      "codemirror_mode": {
        "name": "ipython",
        "version": 3
      },
      "file_extension": ".py",
      "mimetype": "text/x-python",
      "name": "python",
      "nbconvert_exporter": "python",
      "pygments_lexer": "ipython3",
      "version": "3.11.6"
    },
    "accelerator": "GPU",
    "widgets": {
      "application/vnd.jupyter.widget-state+json": {
        "4191ad13e56c44eba6b075f262236996": {
          "model_module": "@jupyter-widgets/controls",
          "model_name": "HBoxModel",
          "model_module_version": "1.5.0",
          "state": {
            "_dom_classes": [],
            "_model_module": "@jupyter-widgets/controls",
            "_model_module_version": "1.5.0",
            "_model_name": "HBoxModel",
            "_view_count": null,
            "_view_module": "@jupyter-widgets/controls",
            "_view_module_version": "1.5.0",
            "_view_name": "HBoxView",
            "box_style": "",
            "children": [
              "IPY_MODEL_cbc6c428afdc40c89d870d00cce00fb8",
              "IPY_MODEL_23e3cedae52443f0a40388c7a751ee71",
              "IPY_MODEL_a0da4cb6422e45cba92bcd2cab49bdec"
            ],
            "layout": "IPY_MODEL_c8fd7d50cff1419382472b0fdd827746"
          }
        },
        "cbc6c428afdc40c89d870d00cce00fb8": {
          "model_module": "@jupyter-widgets/controls",
          "model_name": "HTMLModel",
          "model_module_version": "1.5.0",
          "state": {
            "_dom_classes": [],
            "_model_module": "@jupyter-widgets/controls",
            "_model_module_version": "1.5.0",
            "_model_name": "HTMLModel",
            "_view_count": null,
            "_view_module": "@jupyter-widgets/controls",
            "_view_module_version": "1.5.0",
            "_view_name": "HTMLView",
            "description": "",
            "description_tooltip": null,
            "layout": "IPY_MODEL_477a9f701eba4fb4bbfdeccc7beef65b",
            "placeholder": "​",
            "style": "IPY_MODEL_946b08d12f3c48098874fc111214419a",
            "value": "Downloading tokenizer_config.json: 100%"
          }
        },
        "23e3cedae52443f0a40388c7a751ee71": {
          "model_module": "@jupyter-widgets/controls",
          "model_name": "FloatProgressModel",
          "model_module_version": "1.5.0",
          "state": {
            "_dom_classes": [],
            "_model_module": "@jupyter-widgets/controls",
            "_model_module_version": "1.5.0",
            "_model_name": "FloatProgressModel",
            "_view_count": null,
            "_view_module": "@jupyter-widgets/controls",
            "_view_module_version": "1.5.0",
            "_view_name": "ProgressView",
            "bar_style": "success",
            "description": "",
            "description_tooltip": null,
            "layout": "IPY_MODEL_483b886353ba480dbc6448480cdc2037",
            "max": 727,
            "min": 0,
            "orientation": "horizontal",
            "style": "IPY_MODEL_1f0f9cb7f13440739c6ecb62ebbf9843",
            "value": 727
          }
        },
        "a0da4cb6422e45cba92bcd2cab49bdec": {
          "model_module": "@jupyter-widgets/controls",
          "model_name": "HTMLModel",
          "model_module_version": "1.5.0",
          "state": {
            "_dom_classes": [],
            "_model_module": "@jupyter-widgets/controls",
            "_model_module_version": "1.5.0",
            "_model_name": "HTMLModel",
            "_view_count": null,
            "_view_module": "@jupyter-widgets/controls",
            "_view_module_version": "1.5.0",
            "_view_name": "HTMLView",
            "description": "",
            "description_tooltip": null,
            "layout": "IPY_MODEL_913679831d6e450db427b9c75a7b24e8",
            "placeholder": "​",
            "style": "IPY_MODEL_d181d2f72a3849219d266586680621a4",
            "value": " 727/727 [00:00&lt;00:00, 49.7kB/s]"
          }
        },
        "c8fd7d50cff1419382472b0fdd827746": {
          "model_module": "@jupyter-widgets/base",
          "model_name": "LayoutModel",
          "model_module_version": "1.2.0",
          "state": {
            "_model_module": "@jupyter-widgets/base",
            "_model_module_version": "1.2.0",
            "_model_name": "LayoutModel",
            "_view_count": null,
            "_view_module": "@jupyter-widgets/base",
            "_view_module_version": "1.2.0",
            "_view_name": "LayoutView",
            "align_content": null,
            "align_items": null,
            "align_self": null,
            "border": null,
            "bottom": null,
            "display": null,
            "flex": null,
            "flex_flow": null,
            "grid_area": null,
            "grid_auto_columns": null,
            "grid_auto_flow": null,
            "grid_auto_rows": null,
            "grid_column": null,
            "grid_gap": null,
            "grid_row": null,
            "grid_template_areas": null,
            "grid_template_columns": null,
            "grid_template_rows": null,
            "height": null,
            "justify_content": null,
            "justify_items": null,
            "left": null,
            "margin": null,
            "max_height": null,
            "max_width": null,
            "min_height": null,
            "min_width": null,
            "object_fit": null,
            "object_position": null,
            "order": null,
            "overflow": null,
            "overflow_x": null,
            "overflow_y": null,
            "padding": null,
            "right": null,
            "top": null,
            "visibility": null,
            "width": null
          }
        },
        "477a9f701eba4fb4bbfdeccc7beef65b": {
          "model_module": "@jupyter-widgets/base",
          "model_name": "LayoutModel",
          "model_module_version": "1.2.0",
          "state": {
            "_model_module": "@jupyter-widgets/base",
            "_model_module_version": "1.2.0",
            "_model_name": "LayoutModel",
            "_view_count": null,
            "_view_module": "@jupyter-widgets/base",
            "_view_module_version": "1.2.0",
            "_view_name": "LayoutView",
            "align_content": null,
            "align_items": null,
            "align_self": null,
            "border": null,
            "bottom": null,
            "display": null,
            "flex": null,
            "flex_flow": null,
            "grid_area": null,
            "grid_auto_columns": null,
            "grid_auto_flow": null,
            "grid_auto_rows": null,
            "grid_column": null,
            "grid_gap": null,
            "grid_row": null,
            "grid_template_areas": null,
            "grid_template_columns": null,
            "grid_template_rows": null,
            "height": null,
            "justify_content": null,
            "justify_items": null,
            "left": null,
            "margin": null,
            "max_height": null,
            "max_width": null,
            "min_height": null,
            "min_width": null,
            "object_fit": null,
            "object_position": null,
            "order": null,
            "overflow": null,
            "overflow_x": null,
            "overflow_y": null,
            "padding": null,
            "right": null,
            "top": null,
            "visibility": null,
            "width": null
          }
        },
        "946b08d12f3c48098874fc111214419a": {
          "model_module": "@jupyter-widgets/controls",
          "model_name": "DescriptionStyleModel",
          "model_module_version": "1.5.0",
          "state": {
            "_model_module": "@jupyter-widgets/controls",
            "_model_module_version": "1.5.0",
            "_model_name": "DescriptionStyleModel",
            "_view_count": null,
            "_view_module": "@jupyter-widgets/base",
            "_view_module_version": "1.2.0",
            "_view_name": "StyleView",
            "description_width": ""
          }
        },
        "483b886353ba480dbc6448480cdc2037": {
          "model_module": "@jupyter-widgets/base",
          "model_name": "LayoutModel",
          "model_module_version": "1.2.0",
          "state": {
            "_model_module": "@jupyter-widgets/base",
            "_model_module_version": "1.2.0",
            "_model_name": "LayoutModel",
            "_view_count": null,
            "_view_module": "@jupyter-widgets/base",
            "_view_module_version": "1.2.0",
            "_view_name": "LayoutView",
            "align_content": null,
            "align_items": null,
            "align_self": null,
            "border": null,
            "bottom": null,
            "display": null,
            "flex": null,
            "flex_flow": null,
            "grid_area": null,
            "grid_auto_columns": null,
            "grid_auto_flow": null,
            "grid_auto_rows": null,
            "grid_column": null,
            "grid_gap": null,
            "grid_row": null,
            "grid_template_areas": null,
            "grid_template_columns": null,
            "grid_template_rows": null,
            "height": null,
            "justify_content": null,
            "justify_items": null,
            "left": null,
            "margin": null,
            "max_height": null,
            "max_width": null,
            "min_height": null,
            "min_width": null,
            "object_fit": null,
            "object_position": null,
            "order": null,
            "overflow": null,
            "overflow_x": null,
            "overflow_y": null,
            "padding": null,
            "right": null,
            "top": null,
            "visibility": null,
            "width": null
          }
        },
        "1f0f9cb7f13440739c6ecb62ebbf9843": {
          "model_module": "@jupyter-widgets/controls",
          "model_name": "ProgressStyleModel",
          "model_module_version": "1.5.0",
          "state": {
            "_model_module": "@jupyter-widgets/controls",
            "_model_module_version": "1.5.0",
            "_model_name": "ProgressStyleModel",
            "_view_count": null,
            "_view_module": "@jupyter-widgets/base",
            "_view_module_version": "1.2.0",
            "_view_name": "StyleView",
            "bar_color": null,
            "description_width": ""
          }
        },
        "913679831d6e450db427b9c75a7b24e8": {
          "model_module": "@jupyter-widgets/base",
          "model_name": "LayoutModel",
          "model_module_version": "1.2.0",
          "state": {
            "_model_module": "@jupyter-widgets/base",
            "_model_module_version": "1.2.0",
            "_model_name": "LayoutModel",
            "_view_count": null,
            "_view_module": "@jupyter-widgets/base",
            "_view_module_version": "1.2.0",
            "_view_name": "LayoutView",
            "align_content": null,
            "align_items": null,
            "align_self": null,
            "border": null,
            "bottom": null,
            "display": null,
            "flex": null,
            "flex_flow": null,
            "grid_area": null,
            "grid_auto_columns": null,
            "grid_auto_flow": null,
            "grid_auto_rows": null,
            "grid_column": null,
            "grid_gap": null,
            "grid_row": null,
            "grid_template_areas": null,
            "grid_template_columns": null,
            "grid_template_rows": null,
            "height": null,
            "justify_content": null,
            "justify_items": null,
            "left": null,
            "margin": null,
            "max_height": null,
            "max_width": null,
            "min_height": null,
            "min_width": null,
            "object_fit": null,
            "object_position": null,
            "order": null,
            "overflow": null,
            "overflow_x": null,
            "overflow_y": null,
            "padding": null,
            "right": null,
            "top": null,
            "visibility": null,
            "width": null
          }
        },
        "d181d2f72a3849219d266586680621a4": {
          "model_module": "@jupyter-widgets/controls",
          "model_name": "DescriptionStyleModel",
          "model_module_version": "1.5.0",
          "state": {
            "_model_module": "@jupyter-widgets/controls",
            "_model_module_version": "1.5.0",
            "_model_name": "DescriptionStyleModel",
            "_view_count": null,
            "_view_module": "@jupyter-widgets/base",
            "_view_module_version": "1.2.0",
            "_view_name": "StyleView",
            "description_width": ""
          }
        },
        "1681eec429704558baa3ea102ce3f56c": {
          "model_module": "@jupyter-widgets/controls",
          "model_name": "HBoxModel",
          "model_module_version": "1.5.0",
          "state": {
            "_dom_classes": [],
            "_model_module": "@jupyter-widgets/controls",
            "_model_module_version": "1.5.0",
            "_model_name": "HBoxModel",
            "_view_count": null,
            "_view_module": "@jupyter-widgets/controls",
            "_view_module_version": "1.5.0",
            "_view_name": "HBoxView",
            "box_style": "",
            "children": [
              "IPY_MODEL_e9e5a1ba4e11419c945f0648a303c4a9",
              "IPY_MODEL_ee8dd16e698c4288b117b7db50b1aee5",
              "IPY_MODEL_7f2db3e7d1be4799a86ec956c28f159d"
            ],
            "layout": "IPY_MODEL_cc58137ab736455e88cbcbbbd58bf93b"
          }
        },
        "e9e5a1ba4e11419c945f0648a303c4a9": {
          "model_module": "@jupyter-widgets/controls",
          "model_name": "HTMLModel",
          "model_module_version": "1.5.0",
          "state": {
            "_dom_classes": [],
            "_model_module": "@jupyter-widgets/controls",
            "_model_module_version": "1.5.0",
            "_model_name": "HTMLModel",
            "_view_count": null,
            "_view_module": "@jupyter-widgets/controls",
            "_view_module_version": "1.5.0",
            "_view_name": "HTMLView",
            "description": "",
            "description_tooltip": null,
            "layout": "IPY_MODEL_84f2f9abdfbc43dba9d4a1f223c7f9ae",
            "placeholder": "​",
            "style": "IPY_MODEL_44f56bc0f5ff4807baf352c5b4185663",
            "value": "Downloading tokenizer.model: 100%"
          }
        },
        "ee8dd16e698c4288b117b7db50b1aee5": {
          "model_module": "@jupyter-widgets/controls",
          "model_name": "FloatProgressModel",
          "model_module_version": "1.5.0",
          "state": {
            "_dom_classes": [],
            "_model_module": "@jupyter-widgets/controls",
            "_model_module_version": "1.5.0",
            "_model_name": "FloatProgressModel",
            "_view_count": null,
            "_view_module": "@jupyter-widgets/controls",
            "_view_module_version": "1.5.0",
            "_view_name": "ProgressView",
            "bar_style": "success",
            "description": "",
            "description_tooltip": null,
            "layout": "IPY_MODEL_9ab63f5aa28c42c8bba2c4caee5637bc",
            "max": 499723,
            "min": 0,
            "orientation": "horizontal",
            "style": "IPY_MODEL_ce8fefe251ac4a3f8899cb59f88a66c7",
            "value": 499723
          }
        },
        "7f2db3e7d1be4799a86ec956c28f159d": {
          "model_module": "@jupyter-widgets/controls",
          "model_name": "HTMLModel",
          "model_module_version": "1.5.0",
          "state": {
            "_dom_classes": [],
            "_model_module": "@jupyter-widgets/controls",
            "_model_module_version": "1.5.0",
            "_model_name": "HTMLModel",
            "_view_count": null,
            "_view_module": "@jupyter-widgets/controls",
            "_view_module_version": "1.5.0",
            "_view_name": "HTMLView",
            "description": "",
            "description_tooltip": null,
            "layout": "IPY_MODEL_8691f1efab0146d6a6e41f237323d4e0",
            "placeholder": "​",
            "style": "IPY_MODEL_017cef8e766c40d388a8214fd05f81af",
            "value": " 500k/500k [00:00&lt;00:00, 12.0MB/s]"
          }
        },
        "cc58137ab736455e88cbcbbbd58bf93b": {
          "model_module": "@jupyter-widgets/base",
          "model_name": "LayoutModel",
          "model_module_version": "1.2.0",
          "state": {
            "_model_module": "@jupyter-widgets/base",
            "_model_module_version": "1.2.0",
            "_model_name": "LayoutModel",
            "_view_count": null,
            "_view_module": "@jupyter-widgets/base",
            "_view_module_version": "1.2.0",
            "_view_name": "LayoutView",
            "align_content": null,
            "align_items": null,
            "align_self": null,
            "border": null,
            "bottom": null,
            "display": null,
            "flex": null,
            "flex_flow": null,
            "grid_area": null,
            "grid_auto_columns": null,
            "grid_auto_flow": null,
            "grid_auto_rows": null,
            "grid_column": null,
            "grid_gap": null,
            "grid_row": null,
            "grid_template_areas": null,
            "grid_template_columns": null,
            "grid_template_rows": null,
            "height": null,
            "justify_content": null,
            "justify_items": null,
            "left": null,
            "margin": null,
            "max_height": null,
            "max_width": null,
            "min_height": null,
            "min_width": null,
            "object_fit": null,
            "object_position": null,
            "order": null,
            "overflow": null,
            "overflow_x": null,
            "overflow_y": null,
            "padding": null,
            "right": null,
            "top": null,
            "visibility": null,
            "width": null
          }
        },
        "84f2f9abdfbc43dba9d4a1f223c7f9ae": {
          "model_module": "@jupyter-widgets/base",
          "model_name": "LayoutModel",
          "model_module_version": "1.2.0",
          "state": {
            "_model_module": "@jupyter-widgets/base",
            "_model_module_version": "1.2.0",
            "_model_name": "LayoutModel",
            "_view_count": null,
            "_view_module": "@jupyter-widgets/base",
            "_view_module_version": "1.2.0",
            "_view_name": "LayoutView",
            "align_content": null,
            "align_items": null,
            "align_self": null,
            "border": null,
            "bottom": null,
            "display": null,
            "flex": null,
            "flex_flow": null,
            "grid_area": null,
            "grid_auto_columns": null,
            "grid_auto_flow": null,
            "grid_auto_rows": null,
            "grid_column": null,
            "grid_gap": null,
            "grid_row": null,
            "grid_template_areas": null,
            "grid_template_columns": null,
            "grid_template_rows": null,
            "height": null,
            "justify_content": null,
            "justify_items": null,
            "left": null,
            "margin": null,
            "max_height": null,
            "max_width": null,
            "min_height": null,
            "min_width": null,
            "object_fit": null,
            "object_position": null,
            "order": null,
            "overflow": null,
            "overflow_x": null,
            "overflow_y": null,
            "padding": null,
            "right": null,
            "top": null,
            "visibility": null,
            "width": null
          }
        },
        "44f56bc0f5ff4807baf352c5b4185663": {
          "model_module": "@jupyter-widgets/controls",
          "model_name": "DescriptionStyleModel",
          "model_module_version": "1.5.0",
          "state": {
            "_model_module": "@jupyter-widgets/controls",
            "_model_module_version": "1.5.0",
            "_model_name": "DescriptionStyleModel",
            "_view_count": null,
            "_view_module": "@jupyter-widgets/base",
            "_view_module_version": "1.2.0",
            "_view_name": "StyleView",
            "description_width": ""
          }
        },
        "9ab63f5aa28c42c8bba2c4caee5637bc": {
          "model_module": "@jupyter-widgets/base",
          "model_name": "LayoutModel",
          "model_module_version": "1.2.0",
          "state": {
            "_model_module": "@jupyter-widgets/base",
            "_model_module_version": "1.2.0",
            "_model_name": "LayoutModel",
            "_view_count": null,
            "_view_module": "@jupyter-widgets/base",
            "_view_module_version": "1.2.0",
            "_view_name": "LayoutView",
            "align_content": null,
            "align_items": null,
            "align_self": null,
            "border": null,
            "bottom": null,
            "display": null,
            "flex": null,
            "flex_flow": null,
            "grid_area": null,
            "grid_auto_columns": null,
            "grid_auto_flow": null,
            "grid_auto_rows": null,
            "grid_column": null,
            "grid_gap": null,
            "grid_row": null,
            "grid_template_areas": null,
            "grid_template_columns": null,
            "grid_template_rows": null,
            "height": null,
            "justify_content": null,
            "justify_items": null,
            "left": null,
            "margin": null,
            "max_height": null,
            "max_width": null,
            "min_height": null,
            "min_width": null,
            "object_fit": null,
            "object_position": null,
            "order": null,
            "overflow": null,
            "overflow_x": null,
            "overflow_y": null,
            "padding": null,
            "right": null,
            "top": null,
            "visibility": null,
            "width": null
          }
        },
        "ce8fefe251ac4a3f8899cb59f88a66c7": {
          "model_module": "@jupyter-widgets/controls",
          "model_name": "ProgressStyleModel",
          "model_module_version": "1.5.0",
          "state": {
            "_model_module": "@jupyter-widgets/controls",
            "_model_module_version": "1.5.0",
            "_model_name": "ProgressStyleModel",
            "_view_count": null,
            "_view_module": "@jupyter-widgets/base",
            "_view_module_version": "1.2.0",
            "_view_name": "StyleView",
            "bar_color": null,
            "description_width": ""
          }
        },
        "8691f1efab0146d6a6e41f237323d4e0": {
          "model_module": "@jupyter-widgets/base",
          "model_name": "LayoutModel",
          "model_module_version": "1.2.0",
          "state": {
            "_model_module": "@jupyter-widgets/base",
            "_model_module_version": "1.2.0",
            "_model_name": "LayoutModel",
            "_view_count": null,
            "_view_module": "@jupyter-widgets/base",
            "_view_module_version": "1.2.0",
            "_view_name": "LayoutView",
            "align_content": null,
            "align_items": null,
            "align_self": null,
            "border": null,
            "bottom": null,
            "display": null,
            "flex": null,
            "flex_flow": null,
            "grid_area": null,
            "grid_auto_columns": null,
            "grid_auto_flow": null,
            "grid_auto_rows": null,
            "grid_column": null,
            "grid_gap": null,
            "grid_row": null,
            "grid_template_areas": null,
            "grid_template_columns": null,
            "grid_template_rows": null,
            "height": null,
            "justify_content": null,
            "justify_items": null,
            "left": null,
            "margin": null,
            "max_height": null,
            "max_width": null,
            "min_height": null,
            "min_width": null,
            "object_fit": null,
            "object_position": null,
            "order": null,
            "overflow": null,
            "overflow_x": null,
            "overflow_y": null,
            "padding": null,
            "right": null,
            "top": null,
            "visibility": null,
            "width": null
          }
        },
        "017cef8e766c40d388a8214fd05f81af": {
          "model_module": "@jupyter-widgets/controls",
          "model_name": "DescriptionStyleModel",
          "model_module_version": "1.5.0",
          "state": {
            "_model_module": "@jupyter-widgets/controls",
            "_model_module_version": "1.5.0",
            "_model_name": "DescriptionStyleModel",
            "_view_count": null,
            "_view_module": "@jupyter-widgets/base",
            "_view_module_version": "1.2.0",
            "_view_name": "StyleView",
            "description_width": ""
          }
        },
        "1494b576ec794539a2d27b47332880a2": {
          "model_module": "@jupyter-widgets/controls",
          "model_name": "HBoxModel",
          "model_module_version": "1.5.0",
          "state": {
            "_dom_classes": [],
            "_model_module": "@jupyter-widgets/controls",
            "_model_module_version": "1.5.0",
            "_model_name": "HBoxModel",
            "_view_count": null,
            "_view_module": "@jupyter-widgets/controls",
            "_view_module_version": "1.5.0",
            "_view_name": "HBoxView",
            "box_style": "",
            "children": [
              "IPY_MODEL_73c09e7e3510487bb18510866a9edecc",
              "IPY_MODEL_0c9c705f1be94fe38ea2b89d63b657d4",
              "IPY_MODEL_5928de6d700b422889acb0b016fe4dc2"
            ],
            "layout": "IPY_MODEL_3a7e958d763a4b609092a9578e51ab6f"
          }
        },
        "73c09e7e3510487bb18510866a9edecc": {
          "model_module": "@jupyter-widgets/controls",
          "model_name": "HTMLModel",
          "model_module_version": "1.5.0",
          "state": {
            "_dom_classes": [],
            "_model_module": "@jupyter-widgets/controls",
            "_model_module_version": "1.5.0",
            "_model_name": "HTMLModel",
            "_view_count": null,
            "_view_module": "@jupyter-widgets/controls",
            "_view_module_version": "1.5.0",
            "_view_name": "HTMLView",
            "description": "",
            "description_tooltip": null,
            "layout": "IPY_MODEL_64c2429d86104ed3a5bc31e760c182b6",
            "placeholder": "​",
            "style": "IPY_MODEL_d0cb8b1885c54a78a01156f7adec99c8",
            "value": "Downloading (…)cial_tokens_map.json: 100%"
          }
        },
        "0c9c705f1be94fe38ea2b89d63b657d4": {
          "model_module": "@jupyter-widgets/controls",
          "model_name": "FloatProgressModel",
          "model_module_version": "1.5.0",
          "state": {
            "_dom_classes": [],
            "_model_module": "@jupyter-widgets/controls",
            "_model_module_version": "1.5.0",
            "_model_name": "FloatProgressModel",
            "_view_count": null,
            "_view_module": "@jupyter-widgets/controls",
            "_view_module_version": "1.5.0",
            "_view_name": "ProgressView",
            "bar_style": "success",
            "description": "",
            "description_tooltip": null,
            "layout": "IPY_MODEL_dc495a956cea42d39d034db887936b89",
            "max": 411,
            "min": 0,
            "orientation": "horizontal",
            "style": "IPY_MODEL_03772ba1855b474dad46ff07d09faaef",
            "value": 411
          }
        },
        "5928de6d700b422889acb0b016fe4dc2": {
          "model_module": "@jupyter-widgets/controls",
          "model_name": "HTMLModel",
          "model_module_version": "1.5.0",
          "state": {
            "_dom_classes": [],
            "_model_module": "@jupyter-widgets/controls",
            "_model_module_version": "1.5.0",
            "_model_name": "HTMLModel",
            "_view_count": null,
            "_view_module": "@jupyter-widgets/controls",
            "_view_module_version": "1.5.0",
            "_view_name": "HTMLView",
            "description": "",
            "description_tooltip": null,
            "layout": "IPY_MODEL_0dbc2610182545018e6056c54291f042",
            "placeholder": "​",
            "style": "IPY_MODEL_8fb069e117994297a78c75b9be1cd060",
            "value": " 411/411 [00:00&lt;00:00, 32.8kB/s]"
          }
        },
        "3a7e958d763a4b609092a9578e51ab6f": {
          "model_module": "@jupyter-widgets/base",
          "model_name": "LayoutModel",
          "model_module_version": "1.2.0",
          "state": {
            "_model_module": "@jupyter-widgets/base",
            "_model_module_version": "1.2.0",
            "_model_name": "LayoutModel",
            "_view_count": null,
            "_view_module": "@jupyter-widgets/base",
            "_view_module_version": "1.2.0",
            "_view_name": "LayoutView",
            "align_content": null,
            "align_items": null,
            "align_self": null,
            "border": null,
            "bottom": null,
            "display": null,
            "flex": null,
            "flex_flow": null,
            "grid_area": null,
            "grid_auto_columns": null,
            "grid_auto_flow": null,
            "grid_auto_rows": null,
            "grid_column": null,
            "grid_gap": null,
            "grid_row": null,
            "grid_template_areas": null,
            "grid_template_columns": null,
            "grid_template_rows": null,
            "height": null,
            "justify_content": null,
            "justify_items": null,
            "left": null,
            "margin": null,
            "max_height": null,
            "max_width": null,
            "min_height": null,
            "min_width": null,
            "object_fit": null,
            "object_position": null,
            "order": null,
            "overflow": null,
            "overflow_x": null,
            "overflow_y": null,
            "padding": null,
            "right": null,
            "top": null,
            "visibility": null,
            "width": null
          }
        },
        "64c2429d86104ed3a5bc31e760c182b6": {
          "model_module": "@jupyter-widgets/base",
          "model_name": "LayoutModel",
          "model_module_version": "1.2.0",
          "state": {
            "_model_module": "@jupyter-widgets/base",
            "_model_module_version": "1.2.0",
            "_model_name": "LayoutModel",
            "_view_count": null,
            "_view_module": "@jupyter-widgets/base",
            "_view_module_version": "1.2.0",
            "_view_name": "LayoutView",
            "align_content": null,
            "align_items": null,
            "align_self": null,
            "border": null,
            "bottom": null,
            "display": null,
            "flex": null,
            "flex_flow": null,
            "grid_area": null,
            "grid_auto_columns": null,
            "grid_auto_flow": null,
            "grid_auto_rows": null,
            "grid_column": null,
            "grid_gap": null,
            "grid_row": null,
            "grid_template_areas": null,
            "grid_template_columns": null,
            "grid_template_rows": null,
            "height": null,
            "justify_content": null,
            "justify_items": null,
            "left": null,
            "margin": null,
            "max_height": null,
            "max_width": null,
            "min_height": null,
            "min_width": null,
            "object_fit": null,
            "object_position": null,
            "order": null,
            "overflow": null,
            "overflow_x": null,
            "overflow_y": null,
            "padding": null,
            "right": null,
            "top": null,
            "visibility": null,
            "width": null
          }
        },
        "d0cb8b1885c54a78a01156f7adec99c8": {
          "model_module": "@jupyter-widgets/controls",
          "model_name": "DescriptionStyleModel",
          "model_module_version": "1.5.0",
          "state": {
            "_model_module": "@jupyter-widgets/controls",
            "_model_module_version": "1.5.0",
            "_model_name": "DescriptionStyleModel",
            "_view_count": null,
            "_view_module": "@jupyter-widgets/base",
            "_view_module_version": "1.2.0",
            "_view_name": "StyleView",
            "description_width": ""
          }
        },
        "dc495a956cea42d39d034db887936b89": {
          "model_module": "@jupyter-widgets/base",
          "model_name": "LayoutModel",
          "model_module_version": "1.2.0",
          "state": {
            "_model_module": "@jupyter-widgets/base",
            "_model_module_version": "1.2.0",
            "_model_name": "LayoutModel",
            "_view_count": null,
            "_view_module": "@jupyter-widgets/base",
            "_view_module_version": "1.2.0",
            "_view_name": "LayoutView",
            "align_content": null,
            "align_items": null,
            "align_self": null,
            "border": null,
            "bottom": null,
            "display": null,
            "flex": null,
            "flex_flow": null,
            "grid_area": null,
            "grid_auto_columns": null,
            "grid_auto_flow": null,
            "grid_auto_rows": null,
            "grid_column": null,
            "grid_gap": null,
            "grid_row": null,
            "grid_template_areas": null,
            "grid_template_columns": null,
            "grid_template_rows": null,
            "height": null,
            "justify_content": null,
            "justify_items": null,
            "left": null,
            "margin": null,
            "max_height": null,
            "max_width": null,
            "min_height": null,
            "min_width": null,
            "object_fit": null,
            "object_position": null,
            "order": null,
            "overflow": null,
            "overflow_x": null,
            "overflow_y": null,
            "padding": null,
            "right": null,
            "top": null,
            "visibility": null,
            "width": null
          }
        },
        "03772ba1855b474dad46ff07d09faaef": {
          "model_module": "@jupyter-widgets/controls",
          "model_name": "ProgressStyleModel",
          "model_module_version": "1.5.0",
          "state": {
            "_model_module": "@jupyter-widgets/controls",
            "_model_module_version": "1.5.0",
            "_model_name": "ProgressStyleModel",
            "_view_count": null,
            "_view_module": "@jupyter-widgets/base",
            "_view_module_version": "1.2.0",
            "_view_name": "StyleView",
            "bar_color": null,
            "description_width": ""
          }
        },
        "0dbc2610182545018e6056c54291f042": {
          "model_module": "@jupyter-widgets/base",
          "model_name": "LayoutModel",
          "model_module_version": "1.2.0",
          "state": {
            "_model_module": "@jupyter-widgets/base",
            "_model_module_version": "1.2.0",
            "_model_name": "LayoutModel",
            "_view_count": null,
            "_view_module": "@jupyter-widgets/base",
            "_view_module_version": "1.2.0",
            "_view_name": "LayoutView",
            "align_content": null,
            "align_items": null,
            "align_self": null,
            "border": null,
            "bottom": null,
            "display": null,
            "flex": null,
            "flex_flow": null,
            "grid_area": null,
            "grid_auto_columns": null,
            "grid_auto_flow": null,
            "grid_auto_rows": null,
            "grid_column": null,
            "grid_gap": null,
            "grid_row": null,
            "grid_template_areas": null,
            "grid_template_columns": null,
            "grid_template_rows": null,
            "height": null,
            "justify_content": null,
            "justify_items": null,
            "left": null,
            "margin": null,
            "max_height": null,
            "max_width": null,
            "min_height": null,
            "min_width": null,
            "object_fit": null,
            "object_position": null,
            "order": null,
            "overflow": null,
            "overflow_x": null,
            "overflow_y": null,
            "padding": null,
            "right": null,
            "top": null,
            "visibility": null,
            "width": null
          }
        },
        "8fb069e117994297a78c75b9be1cd060": {
          "model_module": "@jupyter-widgets/controls",
          "model_name": "DescriptionStyleModel",
          "model_module_version": "1.5.0",
          "state": {
            "_model_module": "@jupyter-widgets/controls",
            "_model_module_version": "1.5.0",
            "_model_name": "DescriptionStyleModel",
            "_view_count": null,
            "_view_module": "@jupyter-widgets/base",
            "_view_module_version": "1.2.0",
            "_view_name": "StyleView",
            "description_width": ""
          }
        },
        "62b0bbf37a194cd0a78bc2b99be1d973": {
          "model_module": "@jupyter-widgets/controls",
          "model_name": "HBoxModel",
          "model_module_version": "1.5.0",
          "state": {
            "_dom_classes": [],
            "_model_module": "@jupyter-widgets/controls",
            "_model_module_version": "1.5.0",
            "_model_name": "HBoxModel",
            "_view_count": null,
            "_view_module": "@jupyter-widgets/controls",
            "_view_module_version": "1.5.0",
            "_view_name": "HBoxView",
            "box_style": "",
            "children": [
              "IPY_MODEL_1e4d681f206145489f6a982484b9c2ea",
              "IPY_MODEL_26a50c1b1ca2486ca861038f45c660f5",
              "IPY_MODEL_714e9e83f1e64cb38657287abc080595"
            ],
            "layout": "IPY_MODEL_37ef8a432ce94b00839cc399ae7716bd"
          }
        },
        "1e4d681f206145489f6a982484b9c2ea": {
          "model_module": "@jupyter-widgets/controls",
          "model_name": "HTMLModel",
          "model_module_version": "1.5.0",
          "state": {
            "_dom_classes": [],
            "_model_module": "@jupyter-widgets/controls",
            "_model_module_version": "1.5.0",
            "_model_name": "HTMLModel",
            "_view_count": null,
            "_view_module": "@jupyter-widgets/controls",
            "_view_module_version": "1.5.0",
            "_view_name": "HTMLView",
            "description": "",
            "description_tooltip": null,
            "layout": "IPY_MODEL_6d0408d777354740aeb4d99160b2b3c9",
            "placeholder": "​",
            "style": "IPY_MODEL_4f9c7b94b0ae4350998d5dbb9a7c4404",
            "value": "Downloading tokenizer.json: 100%"
          }
        },
        "26a50c1b1ca2486ca861038f45c660f5": {
          "model_module": "@jupyter-widgets/controls",
          "model_name": "FloatProgressModel",
          "model_module_version": "1.5.0",
          "state": {
            "_dom_classes": [],
            "_model_module": "@jupyter-widgets/controls",
            "_model_module_version": "1.5.0",
            "_model_name": "FloatProgressModel",
            "_view_count": null,
            "_view_module": "@jupyter-widgets/controls",
            "_view_module_version": "1.5.0",
            "_view_name": "ProgressView",
            "bar_style": "success",
            "description": "",
            "description_tooltip": null,
            "layout": "IPY_MODEL_48318b01453c4379b69d2675bf2de90e",
            "max": 1842764,
            "min": 0,
            "orientation": "horizontal",
            "style": "IPY_MODEL_fc2ddcb91ea74fb6bc5dba25a3804f42",
            "value": 1842764
          }
        },
        "714e9e83f1e64cb38657287abc080595": {
          "model_module": "@jupyter-widgets/controls",
          "model_name": "HTMLModel",
          "model_module_version": "1.5.0",
          "state": {
            "_dom_classes": [],
            "_model_module": "@jupyter-widgets/controls",
            "_model_module_version": "1.5.0",
            "_model_name": "HTMLModel",
            "_view_count": null,
            "_view_module": "@jupyter-widgets/controls",
            "_view_module_version": "1.5.0",
            "_view_name": "HTMLView",
            "description": "",
            "description_tooltip": null,
            "layout": "IPY_MODEL_5a95322553694670b8a654dfb1672995",
            "placeholder": "​",
            "style": "IPY_MODEL_ca8e9648a2534adb85e0cbf92ab30766",
            "value": " 1.84M/1.84M [00:00&lt;00:00, 5.53MB/s]"
          }
        },
        "37ef8a432ce94b00839cc399ae7716bd": {
          "model_module": "@jupyter-widgets/base",
          "model_name": "LayoutModel",
          "model_module_version": "1.2.0",
          "state": {
            "_model_module": "@jupyter-widgets/base",
            "_model_module_version": "1.2.0",
            "_model_name": "LayoutModel",
            "_view_count": null,
            "_view_module": "@jupyter-widgets/base",
            "_view_module_version": "1.2.0",
            "_view_name": "LayoutView",
            "align_content": null,
            "align_items": null,
            "align_self": null,
            "border": null,
            "bottom": null,
            "display": null,
            "flex": null,
            "flex_flow": null,
            "grid_area": null,
            "grid_auto_columns": null,
            "grid_auto_flow": null,
            "grid_auto_rows": null,
            "grid_column": null,
            "grid_gap": null,
            "grid_row": null,
            "grid_template_areas": null,
            "grid_template_columns": null,
            "grid_template_rows": null,
            "height": null,
            "justify_content": null,
            "justify_items": null,
            "left": null,
            "margin": null,
            "max_height": null,
            "max_width": null,
            "min_height": null,
            "min_width": null,
            "object_fit": null,
            "object_position": null,
            "order": null,
            "overflow": null,
            "overflow_x": null,
            "overflow_y": null,
            "padding": null,
            "right": null,
            "top": null,
            "visibility": null,
            "width": null
          }
        },
        "6d0408d777354740aeb4d99160b2b3c9": {
          "model_module": "@jupyter-widgets/base",
          "model_name": "LayoutModel",
          "model_module_version": "1.2.0",
          "state": {
            "_model_module": "@jupyter-widgets/base",
            "_model_module_version": "1.2.0",
            "_model_name": "LayoutModel",
            "_view_count": null,
            "_view_module": "@jupyter-widgets/base",
            "_view_module_version": "1.2.0",
            "_view_name": "LayoutView",
            "align_content": null,
            "align_items": null,
            "align_self": null,
            "border": null,
            "bottom": null,
            "display": null,
            "flex": null,
            "flex_flow": null,
            "grid_area": null,
            "grid_auto_columns": null,
            "grid_auto_flow": null,
            "grid_auto_rows": null,
            "grid_column": null,
            "grid_gap": null,
            "grid_row": null,
            "grid_template_areas": null,
            "grid_template_columns": null,
            "grid_template_rows": null,
            "height": null,
            "justify_content": null,
            "justify_items": null,
            "left": null,
            "margin": null,
            "max_height": null,
            "max_width": null,
            "min_height": null,
            "min_width": null,
            "object_fit": null,
            "object_position": null,
            "order": null,
            "overflow": null,
            "overflow_x": null,
            "overflow_y": null,
            "padding": null,
            "right": null,
            "top": null,
            "visibility": null,
            "width": null
          }
        },
        "4f9c7b94b0ae4350998d5dbb9a7c4404": {
          "model_module": "@jupyter-widgets/controls",
          "model_name": "DescriptionStyleModel",
          "model_module_version": "1.5.0",
          "state": {
            "_model_module": "@jupyter-widgets/controls",
            "_model_module_version": "1.5.0",
            "_model_name": "DescriptionStyleModel",
            "_view_count": null,
            "_view_module": "@jupyter-widgets/base",
            "_view_module_version": "1.2.0",
            "_view_name": "StyleView",
            "description_width": ""
          }
        },
        "48318b01453c4379b69d2675bf2de90e": {
          "model_module": "@jupyter-widgets/base",
          "model_name": "LayoutModel",
          "model_module_version": "1.2.0",
          "state": {
            "_model_module": "@jupyter-widgets/base",
            "_model_module_version": "1.2.0",
            "_model_name": "LayoutModel",
            "_view_count": null,
            "_view_module": "@jupyter-widgets/base",
            "_view_module_version": "1.2.0",
            "_view_name": "LayoutView",
            "align_content": null,
            "align_items": null,
            "align_self": null,
            "border": null,
            "bottom": null,
            "display": null,
            "flex": null,
            "flex_flow": null,
            "grid_area": null,
            "grid_auto_columns": null,
            "grid_auto_flow": null,
            "grid_auto_rows": null,
            "grid_column": null,
            "grid_gap": null,
            "grid_row": null,
            "grid_template_areas": null,
            "grid_template_columns": null,
            "grid_template_rows": null,
            "height": null,
            "justify_content": null,
            "justify_items": null,
            "left": null,
            "margin": null,
            "max_height": null,
            "max_width": null,
            "min_height": null,
            "min_width": null,
            "object_fit": null,
            "object_position": null,
            "order": null,
            "overflow": null,
            "overflow_x": null,
            "overflow_y": null,
            "padding": null,
            "right": null,
            "top": null,
            "visibility": null,
            "width": null
          }
        },
        "fc2ddcb91ea74fb6bc5dba25a3804f42": {
          "model_module": "@jupyter-widgets/controls",
          "model_name": "ProgressStyleModel",
          "model_module_version": "1.5.0",
          "state": {
            "_model_module": "@jupyter-widgets/controls",
            "_model_module_version": "1.5.0",
            "_model_name": "ProgressStyleModel",
            "_view_count": null,
            "_view_module": "@jupyter-widgets/base",
            "_view_module_version": "1.2.0",
            "_view_name": "StyleView",
            "bar_color": null,
            "description_width": ""
          }
        },
        "5a95322553694670b8a654dfb1672995": {
          "model_module": "@jupyter-widgets/base",
          "model_name": "LayoutModel",
          "model_module_version": "1.2.0",
          "state": {
            "_model_module": "@jupyter-widgets/base",
            "_model_module_version": "1.2.0",
            "_model_name": "LayoutModel",
            "_view_count": null,
            "_view_module": "@jupyter-widgets/base",
            "_view_module_version": "1.2.0",
            "_view_name": "LayoutView",
            "align_content": null,
            "align_items": null,
            "align_self": null,
            "border": null,
            "bottom": null,
            "display": null,
            "flex": null,
            "flex_flow": null,
            "grid_area": null,
            "grid_auto_columns": null,
            "grid_auto_flow": null,
            "grid_auto_rows": null,
            "grid_column": null,
            "grid_gap": null,
            "grid_row": null,
            "grid_template_areas": null,
            "grid_template_columns": null,
            "grid_template_rows": null,
            "height": null,
            "justify_content": null,
            "justify_items": null,
            "left": null,
            "margin": null,
            "max_height": null,
            "max_width": null,
            "min_height": null,
            "min_width": null,
            "object_fit": null,
            "object_position": null,
            "order": null,
            "overflow": null,
            "overflow_x": null,
            "overflow_y": null,
            "padding": null,
            "right": null,
            "top": null,
            "visibility": null,
            "width": null
          }
        },
        "ca8e9648a2534adb85e0cbf92ab30766": {
          "model_module": "@jupyter-widgets/controls",
          "model_name": "DescriptionStyleModel",
          "model_module_version": "1.5.0",
          "state": {
            "_model_module": "@jupyter-widgets/controls",
            "_model_module_version": "1.5.0",
            "_model_name": "DescriptionStyleModel",
            "_view_count": null,
            "_view_module": "@jupyter-widgets/base",
            "_view_module_version": "1.2.0",
            "_view_name": "StyleView",
            "description_width": ""
          }
        },
        "dc976fdc33f7427e8c1f5905859cb7df": {
          "model_module": "@jupyter-widgets/controls",
          "model_name": "HBoxModel",
          "model_module_version": "1.5.0",
          "state": {
            "_dom_classes": [],
            "_model_module": "@jupyter-widgets/controls",
            "_model_module_version": "1.5.0",
            "_model_name": "HBoxModel",
            "_view_count": null,
            "_view_module": "@jupyter-widgets/controls",
            "_view_module_version": "1.5.0",
            "_view_name": "HBoxView",
            "box_style": "",
            "children": [
              "IPY_MODEL_c1f870ed7c2f4ff4918b890e948ae667",
              "IPY_MODEL_1d2090c7394f4b31a49068df579d8314",
              "IPY_MODEL_0ea7d54bf6f840ffb5e959001cf9cb43"
            ],
            "layout": "IPY_MODEL_244fef25e1d844029f5ebf4671d57bbc"
          }
        },
        "c1f870ed7c2f4ff4918b890e948ae667": {
          "model_module": "@jupyter-widgets/controls",
          "model_name": "HTMLModel",
          "model_module_version": "1.5.0",
          "state": {
            "_dom_classes": [],
            "_model_module": "@jupyter-widgets/controls",
            "_model_module_version": "1.5.0",
            "_model_name": "HTMLModel",
            "_view_count": null,
            "_view_module": "@jupyter-widgets/controls",
            "_view_module_version": "1.5.0",
            "_view_name": "HTMLView",
            "description": "",
            "description_tooltip": null,
            "layout": "IPY_MODEL_d11b95a3208840a99470e0b43d875449",
            "placeholder": "​",
            "style": "IPY_MODEL_704bd91e317946139ee3fab2b2c95906",
            "value": "Downloading config.json: 100%"
          }
        },
        "1d2090c7394f4b31a49068df579d8314": {
          "model_module": "@jupyter-widgets/controls",
          "model_name": "FloatProgressModel",
          "model_module_version": "1.5.0",
          "state": {
            "_dom_classes": [],
            "_model_module": "@jupyter-widgets/controls",
            "_model_module_version": "1.5.0",
            "_model_name": "FloatProgressModel",
            "_view_count": null,
            "_view_module": "@jupyter-widgets/controls",
            "_view_module_version": "1.5.0",
            "_view_name": "ProgressView",
            "bar_style": "success",
            "description": "",
            "description_tooltip": null,
            "layout": "IPY_MODEL_ed2d6d50271b4181b96bd537d971dda0",
            "max": 913,
            "min": 0,
            "orientation": "horizontal",
            "style": "IPY_MODEL_6038ada5611c47d6a79599e9a3066404",
            "value": 913
          }
        },
        "0ea7d54bf6f840ffb5e959001cf9cb43": {
          "model_module": "@jupyter-widgets/controls",
          "model_name": "HTMLModel",
          "model_module_version": "1.5.0",
          "state": {
            "_dom_classes": [],
            "_model_module": "@jupyter-widgets/controls",
            "_model_module_version": "1.5.0",
            "_model_name": "HTMLModel",
            "_view_count": null,
            "_view_module": "@jupyter-widgets/controls",
            "_view_module_version": "1.5.0",
            "_view_name": "HTMLView",
            "description": "",
            "description_tooltip": null,
            "layout": "IPY_MODEL_bcad220cc3a24a5299e388262b2690e9",
            "placeholder": "​",
            "style": "IPY_MODEL_2203b44089fb41ac82805c5e2df15f73",
            "value": " 913/913 [00:00&lt;00:00, 62.1kB/s]"
          }
        },
        "244fef25e1d844029f5ebf4671d57bbc": {
          "model_module": "@jupyter-widgets/base",
          "model_name": "LayoutModel",
          "model_module_version": "1.2.0",
          "state": {
            "_model_module": "@jupyter-widgets/base",
            "_model_module_version": "1.2.0",
            "_model_name": "LayoutModel",
            "_view_count": null,
            "_view_module": "@jupyter-widgets/base",
            "_view_module_version": "1.2.0",
            "_view_name": "LayoutView",
            "align_content": null,
            "align_items": null,
            "align_self": null,
            "border": null,
            "bottom": null,
            "display": null,
            "flex": null,
            "flex_flow": null,
            "grid_area": null,
            "grid_auto_columns": null,
            "grid_auto_flow": null,
            "grid_auto_rows": null,
            "grid_column": null,
            "grid_gap": null,
            "grid_row": null,
            "grid_template_areas": null,
            "grid_template_columns": null,
            "grid_template_rows": null,
            "height": null,
            "justify_content": null,
            "justify_items": null,
            "left": null,
            "margin": null,
            "max_height": null,
            "max_width": null,
            "min_height": null,
            "min_width": null,
            "object_fit": null,
            "object_position": null,
            "order": null,
            "overflow": null,
            "overflow_x": null,
            "overflow_y": null,
            "padding": null,
            "right": null,
            "top": null,
            "visibility": null,
            "width": null
          }
        },
        "d11b95a3208840a99470e0b43d875449": {
          "model_module": "@jupyter-widgets/base",
          "model_name": "LayoutModel",
          "model_module_version": "1.2.0",
          "state": {
            "_model_module": "@jupyter-widgets/base",
            "_model_module_version": "1.2.0",
            "_model_name": "LayoutModel",
            "_view_count": null,
            "_view_module": "@jupyter-widgets/base",
            "_view_module_version": "1.2.0",
            "_view_name": "LayoutView",
            "align_content": null,
            "align_items": null,
            "align_self": null,
            "border": null,
            "bottom": null,
            "display": null,
            "flex": null,
            "flex_flow": null,
            "grid_area": null,
            "grid_auto_columns": null,
            "grid_auto_flow": null,
            "grid_auto_rows": null,
            "grid_column": null,
            "grid_gap": null,
            "grid_row": null,
            "grid_template_areas": null,
            "grid_template_columns": null,
            "grid_template_rows": null,
            "height": null,
            "justify_content": null,
            "justify_items": null,
            "left": null,
            "margin": null,
            "max_height": null,
            "max_width": null,
            "min_height": null,
            "min_width": null,
            "object_fit": null,
            "object_position": null,
            "order": null,
            "overflow": null,
            "overflow_x": null,
            "overflow_y": null,
            "padding": null,
            "right": null,
            "top": null,
            "visibility": null,
            "width": null
          }
        },
        "704bd91e317946139ee3fab2b2c95906": {
          "model_module": "@jupyter-widgets/controls",
          "model_name": "DescriptionStyleModel",
          "model_module_version": "1.5.0",
          "state": {
            "_model_module": "@jupyter-widgets/controls",
            "_model_module_version": "1.5.0",
            "_model_name": "DescriptionStyleModel",
            "_view_count": null,
            "_view_module": "@jupyter-widgets/base",
            "_view_module_version": "1.2.0",
            "_view_name": "StyleView",
            "description_width": ""
          }
        },
        "ed2d6d50271b4181b96bd537d971dda0": {
          "model_module": "@jupyter-widgets/base",
          "model_name": "LayoutModel",
          "model_module_version": "1.2.0",
          "state": {
            "_model_module": "@jupyter-widgets/base",
            "_model_module_version": "1.2.0",
            "_model_name": "LayoutModel",
            "_view_count": null,
            "_view_module": "@jupyter-widgets/base",
            "_view_module_version": "1.2.0",
            "_view_name": "LayoutView",
            "align_content": null,
            "align_items": null,
            "align_self": null,
            "border": null,
            "bottom": null,
            "display": null,
            "flex": null,
            "flex_flow": null,
            "grid_area": null,
            "grid_auto_columns": null,
            "grid_auto_flow": null,
            "grid_auto_rows": null,
            "grid_column": null,
            "grid_gap": null,
            "grid_row": null,
            "grid_template_areas": null,
            "grid_template_columns": null,
            "grid_template_rows": null,
            "height": null,
            "justify_content": null,
            "justify_items": null,
            "left": null,
            "margin": null,
            "max_height": null,
            "max_width": null,
            "min_height": null,
            "min_width": null,
            "object_fit": null,
            "object_position": null,
            "order": null,
            "overflow": null,
            "overflow_x": null,
            "overflow_y": null,
            "padding": null,
            "right": null,
            "top": null,
            "visibility": null,
            "width": null
          }
        },
        "6038ada5611c47d6a79599e9a3066404": {
          "model_module": "@jupyter-widgets/controls",
          "model_name": "ProgressStyleModel",
          "model_module_version": "1.5.0",
          "state": {
            "_model_module": "@jupyter-widgets/controls",
            "_model_module_version": "1.5.0",
            "_model_name": "ProgressStyleModel",
            "_view_count": null,
            "_view_module": "@jupyter-widgets/base",
            "_view_module_version": "1.2.0",
            "_view_name": "StyleView",
            "bar_color": null,
            "description_width": ""
          }
        },
        "bcad220cc3a24a5299e388262b2690e9": {
          "model_module": "@jupyter-widgets/base",
          "model_name": "LayoutModel",
          "model_module_version": "1.2.0",
          "state": {
            "_model_module": "@jupyter-widgets/base",
            "_model_module_version": "1.2.0",
            "_model_name": "LayoutModel",
            "_view_count": null,
            "_view_module": "@jupyter-widgets/base",
            "_view_module_version": "1.2.0",
            "_view_name": "LayoutView",
            "align_content": null,
            "align_items": null,
            "align_self": null,
            "border": null,
            "bottom": null,
            "display": null,
            "flex": null,
            "flex_flow": null,
            "grid_area": null,
            "grid_auto_columns": null,
            "grid_auto_flow": null,
            "grid_auto_rows": null,
            "grid_column": null,
            "grid_gap": null,
            "grid_row": null,
            "grid_template_areas": null,
            "grid_template_columns": null,
            "grid_template_rows": null,
            "height": null,
            "justify_content": null,
            "justify_items": null,
            "left": null,
            "margin": null,
            "max_height": null,
            "max_width": null,
            "min_height": null,
            "min_width": null,
            "object_fit": null,
            "object_position": null,
            "order": null,
            "overflow": null,
            "overflow_x": null,
            "overflow_y": null,
            "padding": null,
            "right": null,
            "top": null,
            "visibility": null,
            "width": null
          }
        },
        "2203b44089fb41ac82805c5e2df15f73": {
          "model_module": "@jupyter-widgets/controls",
          "model_name": "DescriptionStyleModel",
          "model_module_version": "1.5.0",
          "state": {
            "_model_module": "@jupyter-widgets/controls",
            "_model_module_version": "1.5.0",
            "_model_name": "DescriptionStyleModel",
            "_view_count": null,
            "_view_module": "@jupyter-widgets/base",
            "_view_module_version": "1.2.0",
            "_view_name": "StyleView",
            "description_width": ""
          }
        },
        "e4361ee8233a48e4b82ea440714f7779": {
          "model_module": "@jupyter-widgets/controls",
          "model_name": "HBoxModel",
          "model_module_version": "1.5.0",
          "state": {
            "_dom_classes": [],
            "_model_module": "@jupyter-widgets/controls",
            "_model_module_version": "1.5.0",
            "_model_name": "HBoxModel",
            "_view_count": null,
            "_view_module": "@jupyter-widgets/controls",
            "_view_module_version": "1.5.0",
            "_view_name": "HBoxView",
            "box_style": "",
            "children": [
              "IPY_MODEL_f577fc071fbc4ff7ac734e31f84abd93",
              "IPY_MODEL_f25898343edf44e58263754b64c21d90",
              "IPY_MODEL_c353ca51effb4d5fa58821de7d14475c"
            ],
            "layout": "IPY_MODEL_b6b47b99e2554db09dbb24a079920b7b"
          }
        },
        "f577fc071fbc4ff7ac734e31f84abd93": {
          "model_module": "@jupyter-widgets/controls",
          "model_name": "HTMLModel",
          "model_module_version": "1.5.0",
          "state": {
            "_dom_classes": [],
            "_model_module": "@jupyter-widgets/controls",
            "_model_module_version": "1.5.0",
            "_model_name": "HTMLModel",
            "_view_count": null,
            "_view_module": "@jupyter-widgets/controls",
            "_view_module_version": "1.5.0",
            "_view_name": "HTMLView",
            "description": "",
            "description_tooltip": null,
            "layout": "IPY_MODEL_0c274dc40e3e4c278bb96e74db371c74",
            "placeholder": "​",
            "style": "IPY_MODEL_5af9f68765234401b5ef64b0b5632302",
            "value": "Downloading model.safetensors: 100%"
          }
        },
        "f25898343edf44e58263754b64c21d90": {
          "model_module": "@jupyter-widgets/controls",
          "model_name": "FloatProgressModel",
          "model_module_version": "1.5.0",
          "state": {
            "_dom_classes": [],
            "_model_module": "@jupyter-widgets/controls",
            "_model_module_version": "1.5.0",
            "_model_name": "FloatProgressModel",
            "_view_count": null,
            "_view_module": "@jupyter-widgets/controls",
            "_view_module_version": "1.5.0",
            "_view_name": "ProgressView",
            "bar_style": "success",
            "description": "",
            "description_tooltip": null,
            "layout": "IPY_MODEL_e952b891dfae4f17befdf46ae5c4e022",
            "max": 7259449480,
            "min": 0,
            "orientation": "horizontal",
            "style": "IPY_MODEL_9b5ea92a9c234a9ca94c1b2fca088f12",
            "value": 7259449480
          }
        },
        "c353ca51effb4d5fa58821de7d14475c": {
          "model_module": "@jupyter-widgets/controls",
          "model_name": "HTMLModel",
          "model_module_version": "1.5.0",
          "state": {
            "_dom_classes": [],
            "_model_module": "@jupyter-widgets/controls",
            "_model_module_version": "1.5.0",
            "_model_name": "HTMLModel",
            "_view_count": null,
            "_view_module": "@jupyter-widgets/controls",
            "_view_module_version": "1.5.0",
            "_view_name": "HTMLView",
            "description": "",
            "description_tooltip": null,
            "layout": "IPY_MODEL_207c9c3a25f14750a445d114b974ea20",
            "placeholder": "​",
            "style": "IPY_MODEL_aa83e6f287ea42fe96ad308e83ae4269",
            "value": " 7.26G/7.26G [00:54&lt;00:00, 251MB/s]"
          }
        },
        "b6b47b99e2554db09dbb24a079920b7b": {
          "model_module": "@jupyter-widgets/base",
          "model_name": "LayoutModel",
          "model_module_version": "1.2.0",
          "state": {
            "_model_module": "@jupyter-widgets/base",
            "_model_module_version": "1.2.0",
            "_model_name": "LayoutModel",
            "_view_count": null,
            "_view_module": "@jupyter-widgets/base",
            "_view_module_version": "1.2.0",
            "_view_name": "LayoutView",
            "align_content": null,
            "align_items": null,
            "align_self": null,
            "border": null,
            "bottom": null,
            "display": null,
            "flex": null,
            "flex_flow": null,
            "grid_area": null,
            "grid_auto_columns": null,
            "grid_auto_flow": null,
            "grid_auto_rows": null,
            "grid_column": null,
            "grid_gap": null,
            "grid_row": null,
            "grid_template_areas": null,
            "grid_template_columns": null,
            "grid_template_rows": null,
            "height": null,
            "justify_content": null,
            "justify_items": null,
            "left": null,
            "margin": null,
            "max_height": null,
            "max_width": null,
            "min_height": null,
            "min_width": null,
            "object_fit": null,
            "object_position": null,
            "order": null,
            "overflow": null,
            "overflow_x": null,
            "overflow_y": null,
            "padding": null,
            "right": null,
            "top": null,
            "visibility": null,
            "width": null
          }
        },
        "0c274dc40e3e4c278bb96e74db371c74": {
          "model_module": "@jupyter-widgets/base",
          "model_name": "LayoutModel",
          "model_module_version": "1.2.0",
          "state": {
            "_model_module": "@jupyter-widgets/base",
            "_model_module_version": "1.2.0",
            "_model_name": "LayoutModel",
            "_view_count": null,
            "_view_module": "@jupyter-widgets/base",
            "_view_module_version": "1.2.0",
            "_view_name": "LayoutView",
            "align_content": null,
            "align_items": null,
            "align_self": null,
            "border": null,
            "bottom": null,
            "display": null,
            "flex": null,
            "flex_flow": null,
            "grid_area": null,
            "grid_auto_columns": null,
            "grid_auto_flow": null,
            "grid_auto_rows": null,
            "grid_column": null,
            "grid_gap": null,
            "grid_row": null,
            "grid_template_areas": null,
            "grid_template_columns": null,
            "grid_template_rows": null,
            "height": null,
            "justify_content": null,
            "justify_items": null,
            "left": null,
            "margin": null,
            "max_height": null,
            "max_width": null,
            "min_height": null,
            "min_width": null,
            "object_fit": null,
            "object_position": null,
            "order": null,
            "overflow": null,
            "overflow_x": null,
            "overflow_y": null,
            "padding": null,
            "right": null,
            "top": null,
            "visibility": null,
            "width": null
          }
        },
        "5af9f68765234401b5ef64b0b5632302": {
          "model_module": "@jupyter-widgets/controls",
          "model_name": "DescriptionStyleModel",
          "model_module_version": "1.5.0",
          "state": {
            "_model_module": "@jupyter-widgets/controls",
            "_model_module_version": "1.5.0",
            "_model_name": "DescriptionStyleModel",
            "_view_count": null,
            "_view_module": "@jupyter-widgets/base",
            "_view_module_version": "1.2.0",
            "_view_name": "StyleView",
            "description_width": ""
          }
        },
        "e952b891dfae4f17befdf46ae5c4e022": {
          "model_module": "@jupyter-widgets/base",
          "model_name": "LayoutModel",
          "model_module_version": "1.2.0",
          "state": {
            "_model_module": "@jupyter-widgets/base",
            "_model_module_version": "1.2.0",
            "_model_name": "LayoutModel",
            "_view_count": null,
            "_view_module": "@jupyter-widgets/base",
            "_view_module_version": "1.2.0",
            "_view_name": "LayoutView",
            "align_content": null,
            "align_items": null,
            "align_self": null,
            "border": null,
            "bottom": null,
            "display": null,
            "flex": null,
            "flex_flow": null,
            "grid_area": null,
            "grid_auto_columns": null,
            "grid_auto_flow": null,
            "grid_auto_rows": null,
            "grid_column": null,
            "grid_gap": null,
            "grid_row": null,
            "grid_template_areas": null,
            "grid_template_columns": null,
            "grid_template_rows": null,
            "height": null,
            "justify_content": null,
            "justify_items": null,
            "left": null,
            "margin": null,
            "max_height": null,
            "max_width": null,
            "min_height": null,
            "min_width": null,
            "object_fit": null,
            "object_position": null,
            "order": null,
            "overflow": null,
            "overflow_x": null,
            "overflow_y": null,
            "padding": null,
            "right": null,
            "top": null,
            "visibility": null,
            "width": null
          }
        },
        "9b5ea92a9c234a9ca94c1b2fca088f12": {
          "model_module": "@jupyter-widgets/controls",
          "model_name": "ProgressStyleModel",
          "model_module_version": "1.5.0",
          "state": {
            "_model_module": "@jupyter-widgets/controls",
            "_model_module_version": "1.5.0",
            "_model_name": "ProgressStyleModel",
            "_view_count": null,
            "_view_module": "@jupyter-widgets/base",
            "_view_module_version": "1.2.0",
            "_view_name": "StyleView",
            "bar_color": null,
            "description_width": ""
          }
        },
        "207c9c3a25f14750a445d114b974ea20": {
          "model_module": "@jupyter-widgets/base",
          "model_name": "LayoutModel",
          "model_module_version": "1.2.0",
          "state": {
            "_model_module": "@jupyter-widgets/base",
            "_model_module_version": "1.2.0",
            "_model_name": "LayoutModel",
            "_view_count": null,
            "_view_module": "@jupyter-widgets/base",
            "_view_module_version": "1.2.0",
            "_view_name": "LayoutView",
            "align_content": null,
            "align_items": null,
            "align_self": null,
            "border": null,
            "bottom": null,
            "display": null,
            "flex": null,
            "flex_flow": null,
            "grid_area": null,
            "grid_auto_columns": null,
            "grid_auto_flow": null,
            "grid_auto_rows": null,
            "grid_column": null,
            "grid_gap": null,
            "grid_row": null,
            "grid_template_areas": null,
            "grid_template_columns": null,
            "grid_template_rows": null,
            "height": null,
            "justify_content": null,
            "justify_items": null,
            "left": null,
            "margin": null,
            "max_height": null,
            "max_width": null,
            "min_height": null,
            "min_width": null,
            "object_fit": null,
            "object_position": null,
            "order": null,
            "overflow": null,
            "overflow_x": null,
            "overflow_y": null,
            "padding": null,
            "right": null,
            "top": null,
            "visibility": null,
            "width": null
          }
        },
        "aa83e6f287ea42fe96ad308e83ae4269": {
          "model_module": "@jupyter-widgets/controls",
          "model_name": "DescriptionStyleModel",
          "model_module_version": "1.5.0",
          "state": {
            "_model_module": "@jupyter-widgets/controls",
            "_model_module_version": "1.5.0",
            "_model_name": "DescriptionStyleModel",
            "_view_count": null,
            "_view_module": "@jupyter-widgets/base",
            "_view_module_version": "1.2.0",
            "_view_name": "StyleView",
            "description_width": ""
          }
        },
        "45285ab6a86e4719bc2814af5df715c5": {
          "model_module": "@jupyter-widgets/controls",
          "model_name": "HBoxModel",
          "model_module_version": "1.5.0",
          "state": {
            "_dom_classes": [],
            "_model_module": "@jupyter-widgets/controls",
            "_model_module_version": "1.5.0",
            "_model_name": "HBoxModel",
            "_view_count": null,
            "_view_module": "@jupyter-widgets/controls",
            "_view_module_version": "1.5.0",
            "_view_name": "HBoxView",
            "box_style": "",
            "children": [
              "IPY_MODEL_f1e02eb0a6b443209a37d1ac8c43e42d",
              "IPY_MODEL_7f866a8d04494f0b87513e5529f6d5b9",
              "IPY_MODEL_8eb206042c4147008f1360a349fc932e"
            ],
            "layout": "IPY_MODEL_df549272df3f4b10ab24352c8793f654"
          }
        },
        "f1e02eb0a6b443209a37d1ac8c43e42d": {
          "model_module": "@jupyter-widgets/controls",
          "model_name": "HTMLModel",
          "model_module_version": "1.5.0",
          "state": {
            "_dom_classes": [],
            "_model_module": "@jupyter-widgets/controls",
            "_model_module_version": "1.5.0",
            "_model_name": "HTMLModel",
            "_view_count": null,
            "_view_module": "@jupyter-widgets/controls",
            "_view_module_version": "1.5.0",
            "_view_name": "HTMLView",
            "description": "",
            "description_tooltip": null,
            "layout": "IPY_MODEL_5e41044afbb242a7847b1372e822951c",
            "placeholder": "​",
            "style": "IPY_MODEL_7204cf5a63e34ac98fa1e1e616b98832",
            "value": "Downloading generation_config.json: 100%"
          }
        },
        "7f866a8d04494f0b87513e5529f6d5b9": {
          "model_module": "@jupyter-widgets/controls",
          "model_name": "FloatProgressModel",
          "model_module_version": "1.5.0",
          "state": {
            "_dom_classes": [],
            "_model_module": "@jupyter-widgets/controls",
            "_model_module_version": "1.5.0",
            "_model_name": "FloatProgressModel",
            "_view_count": null,
            "_view_module": "@jupyter-widgets/controls",
            "_view_module_version": "1.5.0",
            "_view_name": "ProgressView",
            "bar_style": "success",
            "description": "",
            "description_tooltip": null,
            "layout": "IPY_MODEL_a41f6a00b65c484da43231d87d1e2a93",
            "max": 132,
            "min": 0,
            "orientation": "horizontal",
            "style": "IPY_MODEL_80535317ec974efaab2dedf9df816a3a",
            "value": 132
          }
        },
        "8eb206042c4147008f1360a349fc932e": {
          "model_module": "@jupyter-widgets/controls",
          "model_name": "HTMLModel",
          "model_module_version": "1.5.0",
          "state": {
            "_dom_classes": [],
            "_model_module": "@jupyter-widgets/controls",
            "_model_module_version": "1.5.0",
            "_model_name": "HTMLModel",
            "_view_count": null,
            "_view_module": "@jupyter-widgets/controls",
            "_view_module_version": "1.5.0",
            "_view_name": "HTMLView",
            "description": "",
            "description_tooltip": null,
            "layout": "IPY_MODEL_35d82605876d4346872c010c9776fcfe",
            "placeholder": "​",
            "style": "IPY_MODEL_2969205400c1424ca4b10ed54fc41898",
            "value": " 132/132 [00:00&lt;00:00, 2.86kB/s]"
          }
        },
        "df549272df3f4b10ab24352c8793f654": {
          "model_module": "@jupyter-widgets/base",
          "model_name": "LayoutModel",
          "model_module_version": "1.2.0",
          "state": {
            "_model_module": "@jupyter-widgets/base",
            "_model_module_version": "1.2.0",
            "_model_name": "LayoutModel",
            "_view_count": null,
            "_view_module": "@jupyter-widgets/base",
            "_view_module_version": "1.2.0",
            "_view_name": "LayoutView",
            "align_content": null,
            "align_items": null,
            "align_self": null,
            "border": null,
            "bottom": null,
            "display": null,
            "flex": null,
            "flex_flow": null,
            "grid_area": null,
            "grid_auto_columns": null,
            "grid_auto_flow": null,
            "grid_auto_rows": null,
            "grid_column": null,
            "grid_gap": null,
            "grid_row": null,
            "grid_template_areas": null,
            "grid_template_columns": null,
            "grid_template_rows": null,
            "height": null,
            "justify_content": null,
            "justify_items": null,
            "left": null,
            "margin": null,
            "max_height": null,
            "max_width": null,
            "min_height": null,
            "min_width": null,
            "object_fit": null,
            "object_position": null,
            "order": null,
            "overflow": null,
            "overflow_x": null,
            "overflow_y": null,
            "padding": null,
            "right": null,
            "top": null,
            "visibility": null,
            "width": null
          }
        },
        "5e41044afbb242a7847b1372e822951c": {
          "model_module": "@jupyter-widgets/base",
          "model_name": "LayoutModel",
          "model_module_version": "1.2.0",
          "state": {
            "_model_module": "@jupyter-widgets/base",
            "_model_module_version": "1.2.0",
            "_model_name": "LayoutModel",
            "_view_count": null,
            "_view_module": "@jupyter-widgets/base",
            "_view_module_version": "1.2.0",
            "_view_name": "LayoutView",
            "align_content": null,
            "align_items": null,
            "align_self": null,
            "border": null,
            "bottom": null,
            "display": null,
            "flex": null,
            "flex_flow": null,
            "grid_area": null,
            "grid_auto_columns": null,
            "grid_auto_flow": null,
            "grid_auto_rows": null,
            "grid_column": null,
            "grid_gap": null,
            "grid_row": null,
            "grid_template_areas": null,
            "grid_template_columns": null,
            "grid_template_rows": null,
            "height": null,
            "justify_content": null,
            "justify_items": null,
            "left": null,
            "margin": null,
            "max_height": null,
            "max_width": null,
            "min_height": null,
            "min_width": null,
            "object_fit": null,
            "object_position": null,
            "order": null,
            "overflow": null,
            "overflow_x": null,
            "overflow_y": null,
            "padding": null,
            "right": null,
            "top": null,
            "visibility": null,
            "width": null
          }
        },
        "7204cf5a63e34ac98fa1e1e616b98832": {
          "model_module": "@jupyter-widgets/controls",
          "model_name": "DescriptionStyleModel",
          "model_module_version": "1.5.0",
          "state": {
            "_model_module": "@jupyter-widgets/controls",
            "_model_module_version": "1.5.0",
            "_model_name": "DescriptionStyleModel",
            "_view_count": null,
            "_view_module": "@jupyter-widgets/base",
            "_view_module_version": "1.2.0",
            "_view_name": "StyleView",
            "description_width": ""
          }
        },
        "a41f6a00b65c484da43231d87d1e2a93": {
          "model_module": "@jupyter-widgets/base",
          "model_name": "LayoutModel",
          "model_module_version": "1.2.0",
          "state": {
            "_model_module": "@jupyter-widgets/base",
            "_model_module_version": "1.2.0",
            "_model_name": "LayoutModel",
            "_view_count": null,
            "_view_module": "@jupyter-widgets/base",
            "_view_module_version": "1.2.0",
            "_view_name": "LayoutView",
            "align_content": null,
            "align_items": null,
            "align_self": null,
            "border": null,
            "bottom": null,
            "display": null,
            "flex": null,
            "flex_flow": null,
            "grid_area": null,
            "grid_auto_columns": null,
            "grid_auto_flow": null,
            "grid_auto_rows": null,
            "grid_column": null,
            "grid_gap": null,
            "grid_row": null,
            "grid_template_areas": null,
            "grid_template_columns": null,
            "grid_template_rows": null,
            "height": null,
            "justify_content": null,
            "justify_items": null,
            "left": null,
            "margin": null,
            "max_height": null,
            "max_width": null,
            "min_height": null,
            "min_width": null,
            "object_fit": null,
            "object_position": null,
            "order": null,
            "overflow": null,
            "overflow_x": null,
            "overflow_y": null,
            "padding": null,
            "right": null,
            "top": null,
            "visibility": null,
            "width": null
          }
        },
        "80535317ec974efaab2dedf9df816a3a": {
          "model_module": "@jupyter-widgets/controls",
          "model_name": "ProgressStyleModel",
          "model_module_version": "1.5.0",
          "state": {
            "_model_module": "@jupyter-widgets/controls",
            "_model_module_version": "1.5.0",
            "_model_name": "ProgressStyleModel",
            "_view_count": null,
            "_view_module": "@jupyter-widgets/base",
            "_view_module_version": "1.2.0",
            "_view_name": "StyleView",
            "bar_color": null,
            "description_width": ""
          }
        },
        "35d82605876d4346872c010c9776fcfe": {
          "model_module": "@jupyter-widgets/base",
          "model_name": "LayoutModel",
          "model_module_version": "1.2.0",
          "state": {
            "_model_module": "@jupyter-widgets/base",
            "_model_module_version": "1.2.0",
            "_model_name": "LayoutModel",
            "_view_count": null,
            "_view_module": "@jupyter-widgets/base",
            "_view_module_version": "1.2.0",
            "_view_name": "LayoutView",
            "align_content": null,
            "align_items": null,
            "align_self": null,
            "border": null,
            "bottom": null,
            "display": null,
            "flex": null,
            "flex_flow": null,
            "grid_area": null,
            "grid_auto_columns": null,
            "grid_auto_flow": null,
            "grid_auto_rows": null,
            "grid_column": null,
            "grid_gap": null,
            "grid_row": null,
            "grid_template_areas": null,
            "grid_template_columns": null,
            "grid_template_rows": null,
            "height": null,
            "justify_content": null,
            "justify_items": null,
            "left": null,
            "margin": null,
            "max_height": null,
            "max_width": null,
            "min_height": null,
            "min_width": null,
            "object_fit": null,
            "object_position": null,
            "order": null,
            "overflow": null,
            "overflow_x": null,
            "overflow_y": null,
            "padding": null,
            "right": null,
            "top": null,
            "visibility": null,
            "width": null
          }
        },
        "2969205400c1424ca4b10ed54fc41898": {
          "model_module": "@jupyter-widgets/controls",
          "model_name": "DescriptionStyleModel",
          "model_module_version": "1.5.0",
          "state": {
            "_model_module": "@jupyter-widgets/controls",
            "_model_module_version": "1.5.0",
            "_model_name": "DescriptionStyleModel",
            "_view_count": null,
            "_view_module": "@jupyter-widgets/base",
            "_view_module_version": "1.2.0",
            "_view_name": "StyleView",
            "description_width": ""
          }
        }
      }
    }
  },
  "nbformat": 4,
  "nbformat_minor": 5
}